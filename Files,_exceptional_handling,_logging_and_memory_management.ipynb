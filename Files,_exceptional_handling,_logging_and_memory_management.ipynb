{
  "nbformat": 4,
  "nbformat_minor": 0,
  "metadata": {
    "colab": {
      "provenance": []
    },
    "kernelspec": {
      "name": "python3",
      "display_name": "Python 3"
    },
    "language_info": {
      "name": "python"
    }
  },
  "cells": [
    {
      "cell_type": "markdown",
      "source": [
        "Files, exceptional handling, logging and\n",
        "memory management Questions  \n"
      ],
      "metadata": {
        "id": "8cdui8thCRbu"
      }
    },
    {
      "cell_type": "markdown",
      "source": [
        "Question1- What is the difference between interpreted and compiled languages?  \n",
        "         Compiled languages translate the entire program into machine code (an executable file) before execution. Think of it like translating a book all at once before reading it. This leads to faster performance but can mean a longer development cycle due to the compilation step. Examples include C, C++, and Go.\n",
        "Interpreted languages execute code line by line, translating and running instructions as they encounter them during runtime. This is comparable to having a translator translate a book sentence by sentence as you read it. This offers flexibility and faster development cycles, but generally slower execution speeds. Examples include Python, JavaScript, and Ruby.  \n",
        "\n",
        "Question2-  What is exception handling in Python?  \n",
        "         In Python, exception handling is a mechanism that allows programs to detect and respond to runtime errors or unusual situations, known as exceptions, in a controlled way, preventing abrupt crashes. When an error occurs during program execution, Python \"raises\" an exception, interrupting the normal flow of the program. Instead of crashing, the program can \"catch\" and handle these exceptions gracefully using special blocks of code.   \n",
        "\n",
        "Question3- What is the purpose of the finally block in exception handling?  \n",
        "        In Python's exception handling, the finally block serves a crucial purpose: it guarantees that a specific block of code will be executed, regardless of whether an exception occurred within the try block or not.\n",
        "Think of it as a cleanup crew that always arrives after a party, no matter how wild or uneventful it was. It ensures that essential tasks are performed, regardless of the program's success or failure within the try block.   \n",
        "\n",
        "Question4- What is logging in Python?   \n",
        "         Logging in Python is a robust and flexible way to track events that occur while your software runs. It provides a mechanism for recording information about various events, errors, warnings, and other situations during program execution. This information can be incredibly helpful for debugging, troubleshooting, and monitoring the behavior and health of your applications.   \n",
        "\n",
        "Question5- What is the significance of the __del__ method in Python?  \n",
        "        The significance of the __del__ method in Python\n",
        "In Python, the __del__ method is a special method, often called the destructor or finalizer, that defines actions to be performed right before an object is destroyed. When the Python interpreter's garbage collector determines that an object is no longer referenced by any part of the program, it schedules the __del__ method to be called before reclaiming the object's memory.\n",
        "\n",
        "Question6- What is the difference between import and from ... import in Python?  \n",
        "         Both import and from ... import statements in Python are used to bring code from one module into another, making its functionalities accessible. The main difference lies in how they introduce names into the current namespace and how you then access those imported functionalities.\n",
        "\n",
        "Question7- How can you handle multiple exceptions in Python?   \n",
        "         Handling multiple exceptions with a single except block\n",
        "If you want to perform the same actions for a set of different exceptions, you can group them together in a tuple within a single except block.  \n",
        "\n",
        "Question8- What is the purpose of the with statement when handling files in Python?  \n",
        "         The purpose of the with statement for file handling in Python\n",
        "When dealing with files in Python, the with statement is a highly recommended and widely used approach because it simplifies resource management and makes your code safer and more readable.  \n",
        "\n",
        "Question9- What is the difference between multithreading and multiprocessing?  \n",
        "         Both multithreading and multiprocessing are techniques used to achieve concurrency in programming, which means performing multiple tasks seemingly simultaneously. However, they approach this goal differently, with varying implications for performance, resource usage, and complexity.  \n",
        "\n",
        "Question10- What are the advantages of using logging in a program?  \n",
        "          logging is like keeping a detailed diary of your program's actions, and this diary provides significant advantages for:\n",
        "1. Debugging and troubleshooting\n",
        "Pinpointing Issues: Logs offer valuable clues to diagnose errors and track down the root cause of problems, especially when they occur in production environments where directly debugging can be difficult.\n",
        "Understanding Application Flow: Logs help you follow the execution path of your program, providing insights into how different components interact and behave under various conditions.\n",
        "Reproducing Errors: Detailed logs capture the context surrounding an error, making it easier to reproduce the issue in a development or test environment.\n",
        "Providing Contextual Information: Logs can automatically include useful metadata like timestamps, module names, log levels, and line numbers, giving you more information than a simple print statement.\n",
        "2. Monitoring and performance optimization\n",
        "Monitoring System Health: Logs provide real-time visibility into the health and behavior of your application, enabling you to detect and address issues proactively.\n",
        "Identifying Performance Bottlenecks: By logging relevant metrics and events, you can pinpoint areas of your code that are performing slowly or inefficiently, allowing for optimization.\n",
        "Tracking Application Behavior: Logs can be used to track user actions, StrongDM transactions, and other significant events, giving you a better understanding of how your application is being used.\n",
        "3. Auditing and compliance\n",
        "Maintaining Audit Trails: Logs provide a verifiable record of activities, which is essential for auditing and demonstrating compliance with regulations like Akitra HIPAA.\n",
        "Security Monitoring: Logging can help identify potential security threats or unauthorized access attempts by recording events like failed login attempts or unusual activity patterns.   \n",
        "\n",
        "Question11- What is memory management in Python?  \n",
        "          Python's memory management system is designed to handle memory allocation and deallocation automatically, freeing developers from manual memory management tasks common in languages like C or C++. This system is a core reason for Python's ease of use and developer productivity.  \n",
        "\n",
        "Question12- What are the basic steps involved in exception handling in Python?   \n",
        "         Exception handling in Python is primarily achieved using the try, except, else, and finally blocks.\n",
        "1. try block\n",
        "Purpose: The try block encloses the code segment that might potentially raise an exception.\n",
        "Action: Python attempts to execute the code within the try block.\n",
        "2. except block(s)\n",
        "Purpose: The except block is used to catch and handle the exceptions that are raised within the try block.\n",
        "Action: If an exception occurs in the try block, the execution of the try block is immediately stopped, and Python searches for a matching except block. If a matching except block is found, its code is executed to handle the exception.\n",
        "Specificity: You can specify the type of exception to catch in the except block (e.g., except ValueError:), allowing you to handle different errors differently.\n",
        "Multiple except blocks: You can have multiple except blocks to handle various types of exceptions specifically. Python executes the first except block that matches the raised exception.\n",
        "3. else block (optional)\n",
        "Purpose: The else block is executed if, and only if, no exceptions are raised within the try block.\n",
        "Action: If the try block completes without any exceptions, the else block is executed. It's useful for code that should only run when the try block is successful.\n",
        "4. finally block (optional)\n",
        "Purpose: The finally block contains code that will always be executed, regardless of whether an exception occurred in the try block or was caught by an except block.\n",
        "Action: This block is commonly used for cleanup operations, such as closing files or releasing resources, to ensure these actions are performed under all circumstances.\n",
        "In essence, you wrap potentially problematic code in a try block, define how to respond to specific errors in except blocks, execute code if no errors occur in an else block, and ensure cleanup actions happen no matter what in a finally block.  \n",
        "\n",
        "Question13- Why is memory management important in Python?  \n",
        "          Even though Python handles memory management automatically (unlike languages like C/C++ where you manage it manually), understanding its mechanisms is important for creating efficient and reliable applications.\n",
        "Here's why Python's memory management matters:\n",
        "1. Performance and efficiency\n",
        "Optimal Resource Usage: Efficient memory allocation and deallocation ensures your program uses system memory effectively, preventing unnecessary consumption of resources.\n",
        "Faster Execution: By efficiently managing memory and minimizing overhead (the extra processing needed for memory-related tasks), your Python programs can run faster.\n",
        "Scalability: Proper memory management enables applications, particularly those dealing with large amounts of data (such as in AI and data science), Scaler to scale without encountering memory-related issues like running out of memory.\n",
        "2. Preventing memory leaks and crashes\n",
        "Memory Leaks: If memory is allocated but not properly released, it leads to memory leaks, which consume available memory over time and can cause your program to slow down or even crash. Python's automatic garbage collection aims to prevent these, but understanding circular references and explicit resource closure (like files) is still important for avoiding leaks.\n",
        "Program Stability: By preventing memory leaks and managing memory effectively, your applications become more stable and less prone to unexpected errors or system crashes.\n",
        "3. Improved code quality and maintainability\n",
        "Cleaner Code: Understanding how memory is handled helps you write cleaner, more organized code by making informed choices about data structures and object lifecycles.\n",
        "Easier Debugging: When memory-related issues arise, knowledge of Python's memory model assists in debugging and pinpointing the root cause more quickly.\n",
        "4. Specific scenarios\n",
        "Handling Large Datasets: When working with large data in fields like data science or machine learning, managing memory efficiently is crucial. Python's generators and iterators allow you to process data in chunks, preventing the loading of entire datasets into memory at once.\n",
        "Multi-threaded Applications: The Global Interpreter Lock (GIL) in CPython simplifies memory management in multi-threaded environments but can limit the performance of CPU-bound tasks. Understanding the GIL is essential for optimizing concurrent applications.\n",
        "Web Development: Scalable web applications require efficient memory management to handle numerous requests without performance degradation or crashes.  \n",
        "\n",
        "Question14- What is the role of try and except in exception handling?   \n",
        "          The try and except blocks are the core components of exception handling in Python. Their roles are distinct yet complementary:\n",
        "The role of the try block\n",
        "Enclosing Risky Code: The try block serves as a container for code that might potentially raise an exception during its execution.\n",
        "Attempting Execution: Python attempts to execute all statements within the try block.\n",
        "Detecting Errors: If an exception occurs during the execution of any statement inside the try block, Python immediately stops the execution of the remaining statements in that block.\n",
        "The role of the except block\n",
        "Catching Exceptions: The except block's primary role is to catch and handle the exceptions that were raised in the corresponding try block.\n",
        "Providing Handling Logic: It defines how the program should respond when a specific type of exception is caught. This can involve printing an error message, logging the exception, attempting to recover, or taking alternative actions.\n",
        "Preventing Crashes: By catching exceptions, the except block prevents the program from terminating abruptly, allowing it to handle the error gracefully and potentially continue its execution.\n",
        "Customization: You can specify the type of exception you want to catch (e.g., except ValueError:) to tailor the handling logic for different error scenarios.\n",
        "Multiple Handlers: You can include multiple except blocks to handle different types of exceptions, allowing for more granular control over error management.   \n",
        "\n",
        "Question15- How does Python's garbage collection system work?   \n",
        "          Python's garbage collection (GC) system automatically reclaims memory occupied by objects that are no longer referenced or needed by the program. This automated process frees developers from manual memory management tasks, improving productivity and reducing the risk of errors like memory leaks. Python's GC utilizes a combination of mechanisms, including reference counting and a generational garbage collector, to ensure efficient memory management.   \n",
        "\n",
        "Question16- What is the purpose of the else block in exception handling?  \n",
        "          The purpose of the else block in Python's exception handling\n",
        "In Python's try...except...else...finally structure, the else block plays a specific and useful role:\n",
        "Its purpose is to execute a block of code only if the try block completes successfully without raising any exceptions.  \n",
        "\n",
        "Question17- What are the common logging levels in Python?  \n",
        "          Python's built-in logging module provides a standard set of logging levels to indicate the severity or importance of log messages. These levels help developers control the verbosity of logs and filter messages based on their significance.   \n",
        "\n",
        "Question18- What is the difference between os.fork() and multiprocessing in Python?  \n",
        "          While both os.fork() and Python's multiprocessing module are involved in creating new processes, they represent different levels of abstraction and have distinct characteristics, particularly concerning portability and ease of use.  \n",
        "\n",
        "Question19- What is the importance of closing a file in Python?   \n",
        "          In Python, closing a file after you've finished working with it is a crucial practice for maintaining the integrity of your data and ensuring efficient resource management within your program and the operating system.\n",
        "Here are the key reasons why closing files is important:\n",
        "1. Data integrity\n",
        "Flushing Buffers: When you write data to a file in Python, it's often initially stored in a temporary memory area called a buffer. This buffering improves performance by reducing the number of times the program interacts with the disk. However, the data isn't physically written to the file on disk until the buffer is flushed. Closing the file explicitly forces this flush to happen, ensuring all your data is saved and preventing potential data loss or inconsistencies, especially if the program crashes unexpectedly.\n",
        "2. Resource management\n",
        "Releasing System Resources: When a file is opened, the operating system allocates resources like memory and file handles to manage the file. These resources are finite. If you don't close the file, these resources remain occupied and are not released back to the operating system.   \n",
        "\n",
        "Question20- What is the difference between file.read() and file.readline() in Python?  \n",
        "          In Python, both file.read() and file.readline() are methods used to read content from a file object, but they differ significantly in how much data they read and how they return that data.\n",
        "1. file.read()\n",
        "Functionality: Reads the entire contents of a file as a single string by default. You can also specify an optional size argument to read a certain number of bytes or characters from the file.\n",
        "Return Type: Returns the read content as a single string. If the file is opened in binary mode ('rb'), it returns a bytes object.\n",
        "Use Cases:\n",
        "Reading small files where you need the entire content in memory for processing, such as applying regular expressions or making global changes.\n",
        "Reading binary data.\n",
        "Considerations: Reading the entire file into memory can be inefficient and problematic for very large files, potentially leading to memory errors.\n",
        "2. file.readline()\n",
        "Functionality: Reads a single line from the file at a time, including the newline character (\\n) if present. Each subsequent call to readline() will read the next line in the file.\n",
        "Return Type: Returns the read line as a string. If the file is opened in binary mode, it returns a bytes object.\n",
        "\n",
        "Question21- What is the logging module in Python used for?  \n",
        "          The logging module in Python is a built-in, comprehensive framework for recording events, messages, and errors that occur during a program's execution. It provides a standardized and flexible way to gather valuable information about your application's behavior, which is essential for various aspects of software development and maintenance.  \n",
        "\n",
        "Question22- What is the os module in Python used for in file handling?  \n",
        "          The os module in Python is a standard library used to interact with the operating system, providing a variety of functions for file system operations. It allows Python programs to handle tasks such as file and directory manipulation and environment variable management.   \n",
        "\n",
        "Question23- What are the challenges associated with memory management in Python?  \n",
        "            Despite Python's automatic memory management system, which simplifies development by handling object allocation and deallocation, several challenges remain. Understanding these challenges is key to writing efficient and robust Python applications.  \n",
        "\n",
        "Question24- How do you raise an exception manually in Python?   \n",
        "          In Python, you manually raise (or \"throw\") an exception using the raise keyword. This is essential for controlling error handling and notifying users or other parts of your program about exceptional situations.\n",
        "You can raise both built-in exceptions and custom exceptions you define yourself.\n",
        "Raising built-in exceptions\n",
        "To raise a built-in exception, use the raise keyword followed by the exception class and an optional error message.  \n",
        "\n",
        "Question25- Why is it important to use multithreading in certain applications?  \n",
        "          Multithreading is a technique that enables a program to execute multiple parts of its code (threads) concurrently within a single process. It's important in certain applications because it can significantly improve performance, responsiveness, and resource utilization, especially for tasks that involve waiting for external resources (I/O-bound tasks)."
      ],
      "metadata": {
        "id": "z1iT4P_qCt-b"
      }
    },
    {
      "cell_type": "markdown",
      "source": [
        "Practical Questions\n"
      ],
      "metadata": {
        "id": "coVKCLDtMLOH"
      }
    },
    {
      "cell_type": "markdown",
      "source": [
        "Question1- How can you open a file for writing in Python and write a string to it?"
      ],
      "metadata": {
        "id": "s9TB2TwjMUYj"
      }
    },
    {
      "cell_type": "code",
      "source": [
        "# Open the file in write mode ('w') using the with statement\n",
        "with open(\"my_output.txt\", \"w\") as file:\n",
        "    # Write a string to the file\n",
        "    file.write(\"This is a string that will be written to the file.\\n\")\n",
        "    file.write(\"This is another line of text.\\n\") # Newline character creates a new line\n",
        "\n",
        "print(\"Successfully wrote to my_output.txt\")\n"
      ],
      "metadata": {
        "colab": {
          "base_uri": "https://localhost:8080/"
        },
        "id": "RuIUKtdEMg87",
        "outputId": "39832c35-84ec-4ad9-9061-344188b8f309"
      },
      "execution_count": 2,
      "outputs": [
        {
          "output_type": "stream",
          "name": "stdout",
          "text": [
            "Successfully wrote to my_output.txt\n"
          ]
        }
      ]
    },
    {
      "cell_type": "markdown",
      "source": [
        "Question2- Write a Python program to read the contents of a file and print each line."
      ],
      "metadata": {
        "id": "o9oDCeCMMuLx"
      }
    },
    {
      "cell_type": "code",
      "source": [
        "def read_and_print_lines(file_path):\n",
        "    \"\"\"\n",
        "    Reads the contents of a specified file line by line and prints each line.\n",
        "\n",
        "    Args:\n",
        "        file_path (str): The path to the file to be read.\n",
        "    \"\"\"\n",
        "    try:\n",
        "        # Open the file in read mode ('r') using a with statement\n",
        "        # The 'with' statement ensures the file is automatically closed\n",
        "        # even if errors occur.\n",
        "        with open(file_path, 'r') as file:\n",
        "            print(f\"--- Reading content from '{file_path}' ---\")\n",
        "            # Iterate over the file object directly, which reads it line by line efficiently\n",
        "            for line_number, line in enumerate(file, 1):\n",
        "                # rstrip() removes any trailing whitespace, including the newline character\n",
        "                # that each line read by default will contain.\n",
        "                print(f\"Line {line_number}: {line.rstrip()}\")\n",
        "            print(f\"--- Finished reading '{file_path}' ---\")\n",
        "\n",
        "    except FileNotFoundError:\n",
        "        print(f\"Error: The file '{file_path}' was not found.\")\n",
        "    except Exception as e:\n",
        "        print(f\"An unexpected error occurred: {e}\")\n",
        "\n",
        "# --- Example Usage ---\n",
        "\n",
        "# 1. Create a dummy file for testing\n",
        "dummy_file_name = \"sample.txt\"\n",
        "try:\n",
        "    with open(dummy_file_name, 'w') as f:\n",
        "        f.write(\"This is the first line.\\n\")\n",
        "        f.write(\"Here's the second line.\\n\")\n",
        "        f.write(\"And the third line with some numbers: 123.\\n\")\n",
        "        f.write(\"This is the last line without a trailing newline.\")\n",
        "    print(f\"Created '{dummy_file_name}' for testing.\\n\")\n",
        "except Exception as e:\n",
        "    print(f\"Error creating dummy file: {e}\")\n",
        "\n",
        "# 2. Call the function to read and print lines from the dummy file\n",
        "read_and_print_lines(dummy_file_name)\n",
        "\n",
        "print(\"\\n--- Testing with a non-existent file ---\")\n",
        "read_and_print_lines(\"non_existent_file.txt\")\n",
        "\n"
      ],
      "metadata": {
        "colab": {
          "base_uri": "https://localhost:8080/"
        },
        "id": "eC5TNZNWM2YR",
        "outputId": "f7d0d335-d3a3-48a8-f339-b487439b4b69"
      },
      "execution_count": 3,
      "outputs": [
        {
          "output_type": "stream",
          "name": "stdout",
          "text": [
            "Created 'sample.txt' for testing.\n",
            "\n",
            "--- Reading content from 'sample.txt' ---\n",
            "Line 1: This is the first line.\n",
            "Line 2: Here's the second line.\n",
            "Line 3: And the third line with some numbers: 123.\n",
            "Line 4: This is the last line without a trailing newline.\n",
            "--- Finished reading 'sample.txt' ---\n",
            "\n",
            "--- Testing with a non-existent file ---\n",
            "Error: The file 'non_existent_file.txt' was not found.\n"
          ]
        }
      ]
    },
    {
      "cell_type": "markdown",
      "source": [
        "Question3-  How would you handle a case where the file doesn't exist while trying to open it for reading?  "
      ],
      "metadata": {
        "id": "2sHhZYDFNLND"
      }
    },
    {
      "cell_type": "code",
      "source": [
        "def read_file_content(file_path):\n",
        "    \"\"\"\n",
        "    Attempts to read the content of a file.\n",
        "    Handles FileNotFoundError if the file does not exist.\n",
        "    \"\"\"\n",
        "    try:\n",
        "        # The 'with' statement ensures the file is automatically closed,\n",
        "        # even if an error occurs.\n",
        "        with open(file_path, 'r') as file:\n",
        "            content = file.read()\n",
        "            print(f\"Successfully read content from '{file_path}':\")\n",
        "            print(content)\n",
        "            return content\n",
        "    except FileNotFoundError:\n",
        "        # Handle the specific FileNotFoundError\n",
        "        print(f\"Error: The file '{file_path}' was not found. Please check the path and file name.\")\n",
        "        return None # Or provide default content, or raise a different error, etc.\n",
        "    except Exception as e:\n",
        "        # Catch any other unexpected errors during file operations\n",
        "        print(f\"An unexpected error occurred while reading '{file_path}': {e}\")\n",
        "        return None\n",
        "\n",
        "# --- Example Usage ---\n",
        "\n",
        "# Case 1: File exists\n",
        "existing_file = \"my_data.txt\"\n",
        "try:\n",
        "    with open(existing_file, 'w') as f:\n",
        "        f.write(\"This is some sample data.\")\n",
        "except Exception as e:\n",
        "    print(f\"Error creating dummy file: {e}\")\n",
        "\n",
        "read_file_content(existing_file)\n",
        "\n",
        "print(\"\\n-------------------------\\n\")\n",
        "\n",
        "# Case 2: File does not exist\n",
        "non_existent_file = \"missing_data.txt\"\n",
        "read_file_content(non_existent_file)\n"
      ],
      "metadata": {
        "colab": {
          "base_uri": "https://localhost:8080/"
        },
        "id": "GZ6c93lmNguT",
        "outputId": "87a091ba-5826-4283-f340-f5e4fe7a1cf2"
      },
      "execution_count": 4,
      "outputs": [
        {
          "output_type": "stream",
          "name": "stdout",
          "text": [
            "Successfully read content from 'my_data.txt':\n",
            "This is some sample data.\n",
            "\n",
            "-------------------------\n",
            "\n",
            "Error: The file 'missing_data.txt' was not found. Please check the path and file name.\n"
          ]
        }
      ]
    },
    {
      "cell_type": "markdown",
      "source": [
        "Question4- Write a Python script that reads from one file and writes its content to another file."
      ],
      "metadata": {
        "id": "7vPADHiZN6ho"
      }
    },
    {
      "cell_type": "code",
      "source": [
        "def copy_file_content(source_file_path, destination_file_path):\n",
        "    \"\"\"\n",
        "    Reads the content of the source file and writes it to the destination file.\n",
        "\n",
        "    Args:\n",
        "        source_file_path (str): The path to the file to read from.\n",
        "        destination_file_path (str): The path to the file to write to.\n",
        "                                     If the file doesn't exist, it will be created.\n",
        "                                     If it exists, its content will be overwritten.\n",
        "    \"\"\"\n",
        "    try:\n",
        "        # Open the source file in read mode ('r')\n",
        "        # and the destination file in write mode ('w')\n",
        "        # The 'with' statement ensures files are automatically closed.\n",
        "        with open(source_file_path, 'r') as source_file, \\\n",
        "             open(destination_file_path, 'w') as destination_file:\n",
        "\n",
        "            # Read the entire content of the source file.\n",
        "            content = source_file.read()\n",
        "\n",
        "            # Write the content to the destination file.\n",
        "            destination_file.write(content)\n",
        "\n",
        "            print(f\"Content successfully copied from '{source_file_path}' to '{destination_file_path}'.\")\n",
        "\n",
        "    except FileNotFoundError:\n",
        "        print(f\"Error: The file '{source_file_path}' was not found.\")\n",
        "    except PermissionError:\n",
        "        print(f\"Error: Permission denied to access '{source_file_path}' or '{destination_file_path}'.\")\n",
        "    except IOError as e:\n",
        "        print(f\"An I/O error occurred: {e}\")\n",
        "    except Exception as e:\n",
        "        print(f\"An unexpected error occurred: {e}\")\n",
        "\n",
        "# --- Example Usage ---\n",
        "\n",
        "# 1. Create a dummy source file for testing\n",
        "source_file_name = \"input.txt\"\n",
        "try:\n",
        "    with open(source_file_name, 'w') as f:\n",
        "        f.write(\"Hello from the input file!\\n\")\n",
        "        f.write(\"This is some text that will be copied.\\n\")\n",
        "        f.write(\"Python file handling is quite straightforward.\\n\")\n",
        "    print(f\"Created '{source_file_name}' for testing.\")\n",
        "except Exception as e:\n",
        "    print(f\"Error creating dummy source file: {e}\")\n",
        "\n",
        "# Define the destination file name\n",
        "destination_file_name = \"output.txt\"\n",
        "\n",
        "# 2. Call the function to copy the content\n",
        "print(\"\\n--- Copying content ---\")\n",
        "copy_file_content(source_file_name, destination_file_name)\n",
        "\n",
        "# 3. (Optional) Verify the content of the destination file\n",
        "print(\"\\n--- Verifying content of output.txt ---\")\n",
        "try:\n",
        "    with open(destination_file_name, 'r') as f:\n",
        "        print(f.read())\n",
        "except FileNotFoundError:\n",
        "    print(f\"Error: Could not verify '{destination_file_name}' as it was not found.\")\n",
        "except Exception as e:\n",
        "    print(f\"Error verifying '{destination_file_name}': {e}\")\n",
        "\n",
        "# 4. Test with a non-existent source file\n",
        "print(\"\\n--- Testing with a non-existent source file ---\")\n",
        "copy_file_content(\"non_existent_input.txt\", \"another_output.txt\")\n",
        "\n",
        "# 5. Test with a read-only source file (might require creating a dummy file with restricted permissions)\n",
        "# This example might require manual setup on a Unix-like system\n",
        "# to create a file where you have no read permissions.\n",
        "# For example:\n",
        "# import os\n",
        "# try:\n",
        "#     with open(\"restricted.txt\", \"w\") as f:\n",
        "#         f.write(\"Restricted content.\")\n",
        "#     os.chmod(\"restricted.txt\", 0o000) # Remove all permissions\n",
        "#     print(\"\\n--- Testing with a permission-restricted source file ---\")\n",
        "#     copy_file_content(\"restricted.txt\", \"copy_of_restricted.txt\")\n",
        "# finally:\n",
        "#     # Always try to clean up\n",
        "#     if os.path.exists(\"restricted.txt\"):\n",
        "#         os.chmod(\"restricted.txt\", 0o644) # Restore permissions for deletion\n",
        "#         os.remove(\"restricted.txt\")\n"
      ],
      "metadata": {
        "colab": {
          "base_uri": "https://localhost:8080/"
        },
        "id": "vsE3ClU3OCTx",
        "outputId": "ba632251-8ef6-49a4-acdf-c0d55acc4e67"
      },
      "execution_count": 5,
      "outputs": [
        {
          "output_type": "stream",
          "name": "stdout",
          "text": [
            "Created 'input.txt' for testing.\n",
            "\n",
            "--- Copying content ---\n",
            "Content successfully copied from 'input.txt' to 'output.txt'.\n",
            "\n",
            "--- Verifying content of output.txt ---\n",
            "Hello from the input file!\n",
            "This is some text that will be copied.\n",
            "Python file handling is quite straightforward.\n",
            "\n",
            "\n",
            "--- Testing with a non-existent source file ---\n",
            "Error: The file 'non_existent_input.txt' was not found.\n"
          ]
        }
      ]
    },
    {
      "cell_type": "markdown",
      "source": [
        "Question5- How would you catch and handle division by zero error in Python?"
      ],
      "metadata": {
        "id": "wA9gdafUWweE"
      }
    },
    {
      "cell_type": "code",
      "source": [
        "def divide_numbers(numerator, denominator):\n",
        "    try:\n",
        "        result = numerator / denominator\n",
        "        print(f\"The result of {numerator} / {denominator} is: {result}\")\n",
        "    except ZeroDivisionError:\n",
        "        print(\"Error: Cannot divide by zero!\")\n",
        "    except TypeError: # Handle cases where inputs aren't numbers\n",
        "        print(\"Error: Invalid input. Please enter valid numbers.\")\n",
        "    except Exception as e: # Catch any other unexpected exceptions\n",
        "        print(f\"An unexpected error occurred: {e}\")\n",
        "\n",
        "# Test cases\n",
        "divide_numbers(10, 2)  # Normal division\n",
        "divide_numbers(10, 0)  # Division by zero\n",
        "divide_numbers(10, \"a\") # Invalid input type\n",
        "divide_numbers(0, 5)   # Numerator is zero, valid operation\n"
      ],
      "metadata": {
        "colab": {
          "base_uri": "https://localhost:8080/"
        },
        "id": "DdrE3X_yW3ke",
        "outputId": "467d6bd5-b49e-4ea9-8ebd-234361449c27"
      },
      "execution_count": 6,
      "outputs": [
        {
          "output_type": "stream",
          "name": "stdout",
          "text": [
            "The result of 10 / 2 is: 5.0\n",
            "Error: Cannot divide by zero!\n",
            "Error: Invalid input. Please enter valid numbers.\n",
            "The result of 0 / 5 is: 0.0\n"
          ]
        }
      ]
    },
    {
      "cell_type": "markdown",
      "source": [
        "Question6-  Write a Python program that logs an error message to a log file when a division by zero exception occurs."
      ],
      "metadata": {
        "id": "pWnnYgQFXKtX"
      }
    },
    {
      "cell_type": "code",
      "source": [
        "import logging\n",
        "import os\n",
        "from datetime import datetime\n",
        "\n",
        "# --- Logging Configuration ---\n",
        "# Define the log file name and path\n",
        "log_directory = \"logs\"\n",
        "os.makedirs(log_directory, exist_ok=True) # Create 'logs' directory if it doesn't exist\n",
        "log_file_name = datetime.now().strftime(\"app_%Y-%m-%d_%H-%M-%S.log\")\n",
        "log_file_path = os.path.join(log_directory, log_file_name)\n",
        "\n",
        "# Basic configuration for logging to a file\n",
        "# level=logging.INFO means all messages of INFO severity and higher (WARNING, ERROR, CRITICAL) will be logged.\n",
        "# format defines how each log entry will look.\n",
        "# filename specifies the file to write logs to.\n",
        "# filemode='a' means logs will be appended to the file (default). Use 'w' to overwrite the file each time.\n",
        "logging.basicConfig(\n",
        "    level=logging.INFO,\n",
        "    format='%(asctime)s - %(levelname)s - %(message)s',\n",
        "    filename=log_file_path,\n",
        "    filemode='a'\n",
        ")\n",
        "\n",
        "# You can also get a named logger, which is good practice in larger applications.\n",
        "# If you're working with multiple modules, you'd typically get a logger using\n",
        "# `logger = logging.getLogger(__name__)` in each module.\n",
        "logger = logging.getLogger(__name__)\n",
        "\n",
        "# Add a StreamHandler to also print ERROR messages to the console\n",
        "console_handler = logging.StreamHandler()\n",
        "console_handler.setLevel(logging.ERROR) # Only show ERROR and CRITICAL messages in console\n",
        "formatter = logging.Formatter('%(levelname)s: %(message)s')\n",
        "console_handler.setFormatter(formatter)\n",
        "logger.addHandler(console_handler)\n",
        "\n",
        "# --- Function with Potential ZeroDivisionError ---\n",
        "def perform_division(numerator, denominator):\n",
        "    \"\"\"\n",
        "    Performs division and logs an error if ZeroDivisionError occurs.\n",
        "    \"\"\"\n",
        "    try:\n",
        "        result = numerator / denominator\n",
        "        logger.info(f\"Division successful: {numerator} / {denominator} = {result}\")\n",
        "        return result\n",
        "    except ZeroDivisionError:\n",
        "        # Log the error message with exc_info=True to include the full traceback\n",
        "        logger.error(f\"Attempted to divide {numerator} by zero.\", exc_info=True)\n",
        "        # Alternatively, use logging.exception() which logs at ERROR level with exc_info=True automatically\n",
        "        # logger.exception(f\"Attempted to divide {numerator} by zero.\")\n",
        "        return None\n",
        "    except TypeError:\n",
        "        logger.error(f\"Invalid input types provided: numerator={numerator}, denominator={denominator}.\", exc_info=True)\n",
        "        return None\n",
        "    except Exception as e:\n",
        "        logger.error(f\"An unexpected error occurred during division: {e}\", exc_info=True)\n",
        "        return None\n",
        "\n",
        "# --- Main Program Execution ---\n",
        "if __name__ == \"__main__\":\n",
        "    print(f\"Logging messages will be saved to: {log_file_path}\\n\")\n",
        "\n",
        "    # Test cases\n",
        "    print(\"--- Test Case 1: Valid Division ---\")\n",
        "    perform_division(10, 2)\n",
        "\n",
        "    print(\"\\n--- Test Case 2: Division by Zero ---\")\n",
        "    perform_division(10, 0)\n",
        "\n",
        "    print(\"\\n--- Test Case 3: Another Division by Zero ---\")\n",
        "    perform_division(50, 0)\n",
        "\n",
        "    print(\"\\n--- Test Case 4: Invalid Input Type ---\")\n",
        "    perform_division(20, \"abc\")\n",
        "\n",
        "    print(\"\\n--- Test Case 5: Valid Division Again ---\")\n",
        "    perform_division(100, 4)\n",
        "\n",
        "    logger.info(\"Program execution completed.\")\n",
        "\n",
        "    print(f\"\\nCheck the file '{log_file_path}' for detailed logs.\")\n"
      ],
      "metadata": {
        "colab": {
          "base_uri": "https://localhost:8080/"
        },
        "id": "b2X4q04jXQ3x",
        "outputId": "1d741c89-c6da-4aaf-87cb-84a72409bcf6"
      },
      "execution_count": 7,
      "outputs": [
        {
          "output_type": "stream",
          "name": "stderr",
          "text": [
            "ERROR: Attempted to divide 10 by zero.\n",
            "Traceback (most recent call last):\n",
            "  File \"/tmp/ipython-input-7-3939707739.py\", line 42, in perform_division\n",
            "    result = numerator / denominator\n",
            "             ~~~~~~~~~~^~~~~~~~~~~~~\n",
            "ZeroDivisionError: division by zero\n",
            "ERROR:__main__:Attempted to divide 10 by zero.\n",
            "Traceback (most recent call last):\n",
            "  File \"/tmp/ipython-input-7-3939707739.py\", line 42, in perform_division\n",
            "    result = numerator / denominator\n",
            "             ~~~~~~~~~~^~~~~~~~~~~~~\n",
            "ZeroDivisionError: division by zero\n",
            "ERROR: Attempted to divide 50 by zero.\n",
            "Traceback (most recent call last):\n",
            "  File \"/tmp/ipython-input-7-3939707739.py\", line 42, in perform_division\n",
            "    result = numerator / denominator\n",
            "             ~~~~~~~~~~^~~~~~~~~~~~~\n",
            "ZeroDivisionError: division by zero\n",
            "ERROR:__main__:Attempted to divide 50 by zero.\n",
            "Traceback (most recent call last):\n",
            "  File \"/tmp/ipython-input-7-3939707739.py\", line 42, in perform_division\n",
            "    result = numerator / denominator\n",
            "             ~~~~~~~~~~^~~~~~~~~~~~~\n",
            "ZeroDivisionError: division by zero\n",
            "ERROR: Invalid input types provided: numerator=20, denominator=abc.\n",
            "Traceback (most recent call last):\n",
            "  File \"/tmp/ipython-input-7-3939707739.py\", line 42, in perform_division\n",
            "    result = numerator / denominator\n",
            "             ~~~~~~~~~~^~~~~~~~~~~~~\n",
            "TypeError: unsupported operand type(s) for /: 'int' and 'str'\n",
            "ERROR:__main__:Invalid input types provided: numerator=20, denominator=abc.\n",
            "Traceback (most recent call last):\n",
            "  File \"/tmp/ipython-input-7-3939707739.py\", line 42, in perform_division\n",
            "    result = numerator / denominator\n",
            "             ~~~~~~~~~~^~~~~~~~~~~~~\n",
            "TypeError: unsupported operand type(s) for /: 'int' and 'str'\n"
          ]
        },
        {
          "output_type": "stream",
          "name": "stdout",
          "text": [
            "Logging messages will be saved to: logs/app_2025-07-16_13-12-51.log\n",
            "\n",
            "--- Test Case 1: Valid Division ---\n",
            "\n",
            "--- Test Case 2: Division by Zero ---\n",
            "\n",
            "--- Test Case 3: Another Division by Zero ---\n",
            "\n",
            "--- Test Case 4: Invalid Input Type ---\n",
            "\n",
            "--- Test Case 5: Valid Division Again ---\n",
            "\n",
            "Check the file 'logs/app_2025-07-16_13-12-51.log' for detailed logs.\n"
          ]
        }
      ]
    },
    {
      "cell_type": "markdown",
      "source": [
        "Question7- How do you log information at different levels (INFO, ERROR, WARNING) in Python using the logging module?"
      ],
      "metadata": {
        "id": "8X5Gfw_UXj2m"
      }
    },
    {
      "cell_type": "code",
      "source": [
        "import logging\n",
        "\n",
        "# Configure logging to output INFO level messages and above\n",
        "# and format them with timestamp, level, and message\n",
        "logging.basicConfig(level=logging.INFO, format='%(asctime)s - %(levelname)s - %(message)s')\n",
        "\n",
        "# Log messages at different levels\n",
        "logging.debug(\"This message is for debugging purposes. (Will not be displayed by default)\")\n",
        "logging.info(\"The application started successfully.\")\n",
        "logging.warning(\"A configuration file was not found, using default settings.\")\n",
        "logging.error(\"Failed to connect to the database. Please check the credentials.\")\n",
        "logging.critical(\"Fatal error: The system is shutting down due to memory exhaustion.\")\n"
      ],
      "metadata": {
        "colab": {
          "base_uri": "https://localhost:8080/"
        },
        "id": "ZpVf7jsfXtXh",
        "outputId": "441668d8-cc9a-42e1-c1e5-8817e67a6eeb"
      },
      "execution_count": 8,
      "outputs": [
        {
          "output_type": "stream",
          "name": "stderr",
          "text": [
            "WARNING:root:A configuration file was not found, using default settings.\n",
            "ERROR:root:Failed to connect to the database. Please check the credentials.\n",
            "CRITICAL:root:Fatal error: The system is shutting down due to memory exhaustion.\n"
          ]
        }
      ]
    },
    {
      "cell_type": "markdown",
      "source": [
        "Question8- Write a program to handle a file opening error using exception handling."
      ],
      "metadata": {
        "id": "pZ2yxS-vX8S5"
      }
    },
    {
      "cell_type": "code",
      "source": [
        "def open_and_read_file(filename):\n",
        "    \"\"\"\n",
        "    Attempts to open a file for reading and prints its content.\n",
        "    Handles FileNotFoundError, PermissionError, and other I/O errors.\n",
        "\n",
        "    Args:\n",
        "        filename (str): The name of the file to open.\n",
        "    \"\"\"\n",
        "    try:\n",
        "        # Use the 'with' statement for automatic file closure\n",
        "        with open(filename, 'r') as file:\n",
        "            content = file.read()\n",
        "            print(f\"Successfully opened and read '{filename}':\")\n",
        "            print(content)\n",
        "            return content\n",
        "    except FileNotFoundError:\n",
        "        # This block executes if the file does not exist\n",
        "        print(f\"Error: The file '{filename}' was not found. Please check the path.\")\n",
        "        return None\n",
        "    except PermissionError:\n",
        "        # This block executes if the program doesn't have permissions to read the file\n",
        "        print(f\"Error: Permission denied. Cannot access '{filename}'.\")\n",
        "        return None\n",
        "    except IOError as e:\n",
        "        # This catches other general input/output errors\n",
        "        print(f\"An I/O error occurred while reading '{filename}': {e}\")\n",
        "        return None\n",
        "    except Exception as e:\n",
        "        # This catches any other unexpected errors\n",
        "        print(f\"An unexpected error occurred: {e}\")\n",
        "        return None\n",
        "\n",
        "# --- Example Usage ---\n",
        "\n",
        "# Case 1: File exists and can be read (create a dummy file first)\n",
        "existing_file = \"my_document.txt\"\n",
        "with open(existing_file, 'w') as f:\n",
        "    f.write(\"This is a test document.\\n\")\n",
        "    f.write(\"It contains some important information.\")\n",
        "\n",
        "print(f\"--- Attempting to open '{existing_file}' ---\")\n",
        "open_and_read_file(existing_file)\n",
        "\n",
        "print(\"\\n--- Attempting to open a non-existent file ---\")\n",
        "non_existent_file = \"non_existent_file.txt\"\n",
        "open_and_read_file(non_existent_file) # Will trigger FileNotFoundError\n",
        "\n",
        "print(\"\\n--- Attempting to open a file with restricted permissions ---\")\n",
        "# This might require creating a file and manually setting permissions on Linux/macOS\n",
        "# For example, on Linux, you could run:\n",
        "# touch restricted_file.txt && chmod 000 restricted_file.txt\n",
        "restricted_file = \"restricted_file.txt\"\n",
        "try:\n",
        "    with open(restricted_file, 'w') as f:\n",
        "        f.write(\"Secret data.\")\n",
        "    # On Unix-like systems, uncommenting the next line would set permissions to be unreadable\n",
        "    # import os\n",
        "    # os.chmod(restricted_file, 0o000)\n",
        "    open_and_read_file(restricted_file) # May trigger PermissionError if permissions are set\n",
        "except Exception as e:\n",
        "    print(f\"Could not set up restricted file for testing: {e}\")\n",
        "finally:\n",
        "    # Clean up the restricted file (requires restoring permissions first if set)\n",
        "    # import os\n",
        "    # if os.path.exists(restricted_file):\n",
        "    #     os.chmod(restricted_file, 0o644)\n",
        "    #     os.remove(restricted_file)\n",
        "    pass\n"
      ],
      "metadata": {
        "colab": {
          "base_uri": "https://localhost:8080/"
        },
        "id": "plb10MV4YKRZ",
        "outputId": "529fbd2b-7a23-4953-dd4a-24ba577f1e0e"
      },
      "execution_count": 9,
      "outputs": [
        {
          "output_type": "stream",
          "name": "stdout",
          "text": [
            "--- Attempting to open 'my_document.txt' ---\n",
            "Successfully opened and read 'my_document.txt':\n",
            "This is a test document.\n",
            "It contains some important information.\n",
            "\n",
            "--- Attempting to open a non-existent file ---\n",
            "Error: The file 'non_existent_file.txt' was not found. Please check the path.\n",
            "\n",
            "--- Attempting to open a file with restricted permissions ---\n",
            "Successfully opened and read 'restricted_file.txt':\n",
            "Secret data.\n"
          ]
        }
      ]
    },
    {
      "cell_type": "markdown",
      "source": [
        "Question9-  How can you read a file line by line and store its content in a list in Python?"
      ],
      "metadata": {
        "id": "Czht17O0YVP9"
      }
    },
    {
      "cell_type": "code",
      "source": [
        "def read_file_to_list_loop(file_path):\n",
        "    \"\"\"\n",
        "    Reads a file line by line and stores its content in a list.\n",
        "    Each element in the list will be a line from the file.\n",
        "    Handles FileNotFoundError.\n",
        "    \"\"\"\n",
        "    lines_list = []\n",
        "    try:\n",
        "        with open(file_path, 'r') as file:\n",
        "            for line in file:\n",
        "                # Remove trailing whitespace (including newline character '\\n')\n",
        "                lines_list.append(line.rstrip('\\n'))\n",
        "        print(f\"Successfully read '{file_path}' into a list.\")\n",
        "        return lines_list\n",
        "    except FileNotFoundError:\n",
        "        print(f\"Error: The file '{file_path}' was not found.\")\n",
        "        return None\n",
        "    except Exception as e:\n",
        "        print(f\"An unexpected error occurred: {e}\")\n",
        "        return None\n",
        "\n",
        "# --- Example Usage ---\n",
        "# Create a dummy file for testing\n",
        "file_name = \"my_lines.txt\"\n",
        "with open(file_name, 'w') as f:\n",
        "    f.write(\"First line of text.\\n\")\n",
        "    f.write(\"Second line, with some data.\\n\")\n",
        "    f.write(\"Third and final line.\\n\")\n",
        "\n",
        "my_list = read_file_to_list_loop(file_name)\n",
        "if my_list:\n",
        "    print(\"List content:\")\n",
        "    for item in my_list:\n",
        "        print(f\"- {item}\")\n",
        "\n",
        "print(\"\\n--- Testing with a non-existent file ---\")\n",
        "read_file_to_list_loop(\"non_existent.txt\")\n"
      ],
      "metadata": {
        "colab": {
          "base_uri": "https://localhost:8080/"
        },
        "id": "EicGx9ApYbT3",
        "outputId": "4c5fd4f3-0a57-48be-aedf-60b4f6955ea7"
      },
      "execution_count": 10,
      "outputs": [
        {
          "output_type": "stream",
          "name": "stdout",
          "text": [
            "Successfully read 'my_lines.txt' into a list.\n",
            "List content:\n",
            "- First line of text.\n",
            "- Second line, with some data.\n",
            "- Third and final line.\n",
            "\n",
            "--- Testing with a non-existent file ---\n",
            "Error: The file 'non_existent.txt' was not found.\n"
          ]
        }
      ]
    },
    {
      "cell_type": "markdown",
      "source": [
        "Question10-  How can you append data to an existing file in Python?"
      ],
      "metadata": {
        "id": "FNefm-wVYkTX"
      }
    },
    {
      "cell_type": "code",
      "source": [
        "# Create a dummy file with some initial content\n",
        "file_name = \"my_log.txt\"\n",
        "with open(file_name, 'w') as f:\n",
        "    f.write(\"Initial log entry.\\n\")\n",
        "    f.write(\"Another existing entry.\\n\")\n",
        "\n",
        "print(f\"Initial content of '{file_name}':\")\n",
        "with open(file_name, 'r') as f:\n",
        "    print(f.read())\n",
        "\n",
        "# Append new data to the file\n",
        "new_data = \"This is a new log entry, appended at the end.\\n\"\n",
        "with open(file_name, 'a') as file:  # Open in append mode\n",
        "    file.write(new_data)\n",
        "    file.write(\"Yet another line appended.\\n\")\n",
        "\n",
        "print(f\"\\nContent of '{file_name}' after appending:\")\n",
        "with open(file_name, 'r') as f:\n",
        "    print(f.read())\n",
        "\n",
        "# Appending with a+ mode (allows reading and appending)\n",
        "print(f\"\\nContent of '{file_name}' after appending with a+ mode:\")\n",
        "with open(file_name, 'a+') as file:\n",
        "    file.write(\"Appending with a+ mode.\\n\")\n",
        "    # To read, you need to seek back to the beginning of the file\n",
        "    file.seek(0)\n",
        "    print(file.read())\n",
        "\n"
      ],
      "metadata": {
        "colab": {
          "base_uri": "https://localhost:8080/"
        },
        "id": "pFpmudNVYp18",
        "outputId": "235b9cf6-3708-4bfc-d342-d50356dcd12d"
      },
      "execution_count": 11,
      "outputs": [
        {
          "output_type": "stream",
          "name": "stdout",
          "text": [
            "Initial content of 'my_log.txt':\n",
            "Initial log entry.\n",
            "Another existing entry.\n",
            "\n",
            "\n",
            "Content of 'my_log.txt' after appending:\n",
            "Initial log entry.\n",
            "Another existing entry.\n",
            "This is a new log entry, appended at the end.\n",
            "Yet another line appended.\n",
            "\n",
            "\n",
            "Content of 'my_log.txt' after appending with a+ mode:\n",
            "Initial log entry.\n",
            "Another existing entry.\n",
            "This is a new log entry, appended at the end.\n",
            "Yet another line appended.\n",
            "Appending with a+ mode.\n",
            "\n"
          ]
        }
      ]
    },
    {
      "cell_type": "markdown",
      "source": [
        "Question11- Write a Python program that uses a try-except block to handle an error when attempting to access a\n",
        "dictionary key that doesn't existF."
      ],
      "metadata": {
        "id": "OKIqNhFaYxaN"
      }
    },
    {
      "cell_type": "code",
      "source": [
        "def get_user_info(user_data, key):\n",
        "    \"\"\"\n",
        "    Attempts to retrieve a value from a dictionary using the provided key.\n",
        "    Handles KeyError if the key does not exist.\n",
        "\n",
        "    Args:\n",
        "        user_data (dict): The dictionary to search in.\n",
        "        key (str): The key to look for.\n",
        "\n",
        "    Returns:\n",
        "        The value associated with the key if found, otherwise None.\n",
        "    \"\"\"\n",
        "    try:\n",
        "        value = user_data[key]\n",
        "        print(f\"Key '{key}' found! Value: {value}\")\n",
        "        return value\n",
        "    except KeyError:\n",
        "        print(f\"Error: Key '{key}' not found in the dictionary.\")\n",
        "        return None\n",
        "    except Exception as e: # Catch any other unexpected errors\n",
        "        print(f\"An unexpected error occurred: {e}\")\n",
        "        return None\n",
        "\n",
        "# --- Example Usage ---\n",
        "\n",
        "# Our sample dictionary\n",
        "user_profile = {\n",
        "    \"name\": \"Alice\",\n",
        "    \"age\": 30,\n",
        "    \"city\": \"New York\"\n",
        "}\n",
        "\n",
        "print(\"--- Accessing existing keys ---\")\n",
        "get_user_info(user_profile, \"name\")\n",
        "get_user_info(user_profile, \"age\")\n",
        "\n",
        "print(\"\\n--- Accessing a non-existent key ---\")\n",
        "get_user_info(user_profile, \"email\") # This will raise a KeyError\n",
        "\n",
        "print(\"\\n--- Accessing another non-existent key ---\")\n",
        "get_user_info(user_profile, \"occupation\") # This will also raise a KeyError\n",
        "\n",
        "# Demonstrating handling of other potential errors (e.g., non-dictionary input)\n",
        "print(\"\\n--- Testing with invalid dictionary input ---\")\n",
        "get_user_info(\"not a dictionary\", \"key\")\n",
        "\n"
      ],
      "metadata": {
        "colab": {
          "base_uri": "https://localhost:8080/"
        },
        "id": "JzH3X23YY4Ft",
        "outputId": "16c1dd65-4a21-45f1-8d4e-dbbc240d43ef"
      },
      "execution_count": 12,
      "outputs": [
        {
          "output_type": "stream",
          "name": "stdout",
          "text": [
            "--- Accessing existing keys ---\n",
            "Key 'name' found! Value: Alice\n",
            "Key 'age' found! Value: 30\n",
            "\n",
            "--- Accessing a non-existent key ---\n",
            "Error: Key 'email' not found in the dictionary.\n",
            "\n",
            "--- Accessing another non-existent key ---\n",
            "Error: Key 'occupation' not found in the dictionary.\n",
            "\n",
            "--- Testing with invalid dictionary input ---\n",
            "An unexpected error occurred: string indices must be integers, not 'str'\n"
          ]
        }
      ]
    },
    {
      "cell_type": "markdown",
      "source": [
        "Question12- Write a program that demonstrates using multiple except blocks to handle different types of exceptions."
      ],
      "metadata": {
        "id": "Tt3vfSbvZOrT"
      }
    },
    {
      "cell_type": "code",
      "source": [
        "def perform_risky_operations():\n",
        "    \"\"\"\n",
        "    Demonstrates handling multiple types of exceptions using separate except blocks.\n",
        "    \"\"\"\n",
        "    my_list = [10, 20, 30]\n",
        "    my_dict = {\"apple\": 1, \"banana\": 2}\n",
        "\n",
        "    try:\n",
        "        # 1. Get user input and convert to integer (can raise ValueError)\n",
        "        user_input_str = input(\"Enter a number: \")\n",
        "        num = int(user_input_str)\n",
        "\n",
        "        # 2. Divide by the number (can raise ZeroDivisionError)\n",
        "        result = 100 / num\n",
        "        print(f\"Division result: {result}\")\n",
        "\n",
        "        # 3. Access list element (can raise IndexError)\n",
        "        list_element = my_list[num] # Using 'num' as index can go out of bounds\n",
        "        print(f\"List element at index {num}: {list_element}\")\n",
        "\n",
        "        # 4. Access dictionary key (can raise KeyError)\n",
        "        dict_value = my_dict[user_input_str] # Trying to use the raw input as a key\n",
        "        print(f\"Dictionary value for key '{user_input_str}': {dict_value}\")\n",
        "\n",
        "    except ValueError:\n",
        "        print(\"Error: Invalid input. Please enter a valid integer number.\")\n",
        "    except ZeroDivisionError:\n",
        "        print(\"Error: You cannot divide by zero! Please enter a non-zero number.\")\n",
        "    except IndexError:\n",
        "        print(f\"Error: List index is out of range. Valid indices are 0 to {len(my_list) - 1}.\")\n",
        "    except KeyError:\n",
        "        print(f\"Error: Dictionary key '{user_input_str}' not found in the dictionary.\")\n",
        "    except Exception as e:\n",
        "        # Catch any other unexpected exceptions. This should always be the last except block.\n",
        "        print(f\"An unexpected error occurred: {e}\")\n",
        "    else:\n",
        "        # This block executes if no exceptions were raised in the try block\n",
        "        print(\"All operations completed successfully!\")\n",
        "    finally:\n",
        "        # This block always executes, regardless of whether an exception occurred or not\n",
        "        print(\"--- Operation attempt finished ---\")\n",
        "\n",
        "# --- Test Cases ---\n",
        "print(\"--- Test Case 1: All operations succeed ---\")\n",
        "# Enter '2'\n",
        "perform_risky_operations() # Expect success\n",
        "\n",
        "print(\"\\n--- Test Case 2: Invalid input (ValueError) ---\")\n",
        "# Enter 'abc'\n",
        "perform_risky_operations() # Expect ValueError\n",
        "\n",
        "print(\"\\n--- Test Case 3: Division by zero (ZeroDivisionError) ---\")\n",
        "# Enter '0'\n",
        "perform_risky_operations() # Expect ZeroDivisionError\n",
        "\n",
        "print(\"\\n--- Test Case 4: Index out of range (IndexError) ---\")\n",
        "# Enter '5'\n",
        "perform_risky_operations() # Expect IndexError\n",
        "\n",
        "print(\"\\n--- Test Case 5: Dictionary key not found (KeyError) ---\")\n",
        "# Enter '1' (or any other number not \"apple\" or \"banana\")\n",
        "perform_risky_operations() # Expect KeyError (since '1' isn't a key in my_dict)\n",
        "\n"
      ],
      "metadata": {
        "colab": {
          "base_uri": "https://localhost:8080/"
        },
        "id": "cG0Kr2WnZTdD",
        "outputId": "a764dd48-2f8c-4ccd-f488-b8bb806b6b3d"
      },
      "execution_count": 13,
      "outputs": [
        {
          "output_type": "stream",
          "name": "stdout",
          "text": [
            "--- Test Case 1: All operations succeed ---\n",
            "Enter a number: 100\n",
            "Division result: 1.0\n",
            "Error: List index is out of range. Valid indices are 0 to 2.\n",
            "--- Operation attempt finished ---\n",
            "\n",
            "--- Test Case 2: Invalid input (ValueError) ---\n",
            "Enter a number: 200\n",
            "Division result: 0.5\n",
            "Error: List index is out of range. Valid indices are 0 to 2.\n",
            "--- Operation attempt finished ---\n",
            "\n",
            "--- Test Case 3: Division by zero (ZeroDivisionError) ---\n",
            "Enter a number: 300\n",
            "Division result: 0.3333333333333333\n",
            "Error: List index is out of range. Valid indices are 0 to 2.\n",
            "--- Operation attempt finished ---\n",
            "\n",
            "--- Test Case 4: Index out of range (IndexError) ---\n",
            "Enter a number: 400\n",
            "Division result: 0.25\n",
            "Error: List index is out of range. Valid indices are 0 to 2.\n",
            "--- Operation attempt finished ---\n",
            "\n",
            "--- Test Case 5: Dictionary key not found (KeyError) ---\n",
            "Enter a number: 600\n",
            "Division result: 0.16666666666666666\n",
            "Error: List index is out of range. Valid indices are 0 to 2.\n",
            "--- Operation attempt finished ---\n"
          ]
        }
      ]
    },
    {
      "cell_type": "markdown",
      "source": [
        "Question13-  How would you check if a file exists before attempting to read it in Python?\n"
      ],
      "metadata": {
        "id": "8FVu8QhuZx1_"
      }
    },
    {
      "cell_type": "code",
      "source": [
        "def read_data_file(filename):\n",
        "    try:\n",
        "        # Attempt to open the file directly in read mode\n",
        "        with open(filename, 'r') as file:\n",
        "            data = file.read()\n",
        "            print(f\"Successfully read data from '{filename}':\")\n",
        "            print(data)\n",
        "            return data\n",
        "    except FileNotFoundError:\n",
        "        # Handle the specific FileNotFoundError if the file doesn't exist\n",
        "        print(f\"Error: The file '{filename}' was not found. Cannot read data.\")\n",
        "        return None\n",
        "    except IOError as e:\n",
        "        # Catch other potential I/O errors (e.g., permission denied)\n",
        "        print(f\"An I/O error occurred while reading '{filename}': {e}\")\n",
        "        return None\n",
        "    except Exception as e:\n",
        "        # Catch any other unexpected errors\n",
        "        print(f\"An unexpected error occurred: {e}\")\n",
        "        return None\n",
        "\n",
        "# --- Example Usage ---\n",
        "# Create a dummy file for testing\n",
        "existing_file = \"my_data.txt\"\n",
        "with open(existing_file, 'w') as f:\n",
        "    f.write(\"Line 1: Hello from the file!\\n\")\n",
        "    f.write(\"Line 2: This is some content.\")\n",
        "\n",
        "print(\"--- Attempting to read an existing file ---\")\n",
        "read_data_file(existing_file)\n",
        "\n",
        "print(\"\\n--- Attempting to read a non-existent file ---\")\n",
        "non_existent_file = \"non_existent_file.txt\"\n",
        "read_data_file(non_existent_file)\n"
      ],
      "metadata": {
        "colab": {
          "base_uri": "https://localhost:8080/"
        },
        "id": "ngbcTLgjZ4CG",
        "outputId": "3a24e87b-0fec-4626-9039-8351ab049ec1"
      },
      "execution_count": 14,
      "outputs": [
        {
          "output_type": "stream",
          "name": "stdout",
          "text": [
            "--- Attempting to read an existing file ---\n",
            "Successfully read data from 'my_data.txt':\n",
            "Line 1: Hello from the file!\n",
            "Line 2: This is some content.\n",
            "\n",
            "--- Attempting to read a non-existent file ---\n",
            "Error: The file 'non_existent_file.txt' was not found. Cannot read data.\n"
          ]
        }
      ]
    },
    {
      "cell_type": "markdown",
      "source": [
        "Question14- Write a program that uses the logging module to log both informational and error messages."
      ],
      "metadata": {
        "id": "RXpQGw6JaASu"
      }
    },
    {
      "cell_type": "code",
      "source": [
        "import logging\n",
        "import os\n",
        "from datetime import datetime\n",
        "\n",
        "# --- Logging Configuration ---\n",
        "\n",
        "# 1. Define the log directory and file name\n",
        "log_directory = \"my_app_logs\"\n",
        "os.makedirs(log_directory, exist_ok=True) # Create 'my_app_logs' directory if it doesn't exist\n",
        "log_file_name = datetime.now().strftime(\"app_activity_%Y-%m-%d.log\")\n",
        "log_file_path = os.path.join(log_directory, log_file_name)\n",
        "\n",
        "# 2. Get a logger instance (good practice for larger applications)\n",
        "# Using __name__ ensures each module gets its own logger\n",
        "logger = logging.getLogger(__name__)\n",
        "logger.setLevel(logging.INFO) # Set the lowest level for this logger to INFO\n",
        "\n",
        "# 3. Create handlers to send log messages to different destinations\n",
        "\n",
        "# Handler 1: File Handler - to write all logs (INFO and above) to a file\n",
        "file_handler = logging.FileHandler(log_file_path, mode='a') # 'a' for append\n",
        "file_handler.setLevel(logging.INFO) # This handler will handle INFO and above\n",
        "file_formatter = logging.Formatter('%(asctime)s - %(name)s - %(levelname)s - %(message)s')\n",
        "file_handler.setFormatter(file_formatter)\n",
        "logger.addHandler(file_handler)\n",
        "\n",
        "# Handler 2: Console Handler - to print ERROR messages to the console\n",
        "console_handler = logging.StreamHandler()\n",
        "console_handler.setLevel(logging.ERROR) # This handler will ONLY handle ERROR and above\n",
        "console_formatter = logging.Formatter('%(levelname)s: %(message)s')\n",
        "console_handler.setFormatter(console_formatter)\n",
        "logger.addHandler(console_handler)\n",
        "\n",
        "# --- Program Logic ---\n",
        "\n",
        "def process_data(data_list):\n",
        "    \"\"\"\n",
        "    Simulates processing a list of data, logging INFO for success\n",
        "    and ERROR for issues (like non-numeric data or division by zero).\n",
        "    \"\"\"\n",
        "    logger.info(\"Starting data processing...\")\n",
        "\n",
        "    total_sum = 0\n",
        "    valid_items = 0\n",
        "\n",
        "    for i, item in enumerate(data_list):\n",
        "        try:\n",
        "            num = int(item) # Try converting item to an integer\n",
        "            total_sum += num\n",
        "            valid_items += 1\n",
        "            logger.info(f\"Processed item {i}: '{item}' successfully. Current sum: {total_sum}\")\n",
        "\n",
        "            # Simulate another potential error: division by zero\n",
        "            if num == 0:\n",
        "                # This will raise a ZeroDivisionError\n",
        "                result = 100 / num\n",
        "                logger.info(f\"Result of 100/0 is {result}\") # This line won't be reached\n",
        "\n",
        "        except ValueError:\n",
        "            # Log an ERROR if the item cannot be converted to an integer\n",
        "            logger.error(f\"Invalid data encountered at index {i}: '{item}' is not a valid number.\")\n",
        "        except ZeroDivisionError:\n",
        "            # Log an ERROR specifically for division by zero\n",
        "            logger.error(f\"Attempted division by zero at index {i} with value '{item}'.\", exc_info=True)\n",
        "        except Exception as e:\n",
        "            # Catch any other unexpected exceptions\n",
        "            logger.error(f\"An unexpected error occurred processing item {i}: {e}\", exc_info=True)\n",
        "\n",
        "    if valid_items > 0:\n",
        "        average = total_sum / valid_items\n",
        "        logger.info(f\"Data processing finished. Total sum: {total_sum}, Valid items: {valid_items}, Average: {average:.2f}\")\n",
        "    else:\n",
        "        logger.warning(\"No valid items were processed.\") # Using WARNING level here\n",
        "\n",
        "    logger.info(\"Exiting data processing.\")\n",
        "\n",
        "\n",
        "# --- Main execution ---\n",
        "if __name__ == \"__main__\":\n",
        "    print(f\"Log messages will be saved to: {log_file_path}\")\n",
        "    print(\"Error messages will also be printed to the console.\\n\")\n",
        "\n",
        "    sample_data_1 = [10, 20, \"invalid\", 30, 0, 40]\n",
        "    sample_data_2 = [\"apple\", \"banana\"]\n",
        "\n",
        "    print(\"--- Processing Sample Data 1 ---\")\n",
        "    process_data(sample_data_1)\n",
        "\n",
        "    print(\"\\n--- Processing Sample Data 2 ---\")\n",
        "    process_data(sample_data_2)\n",
        "\n",
        "    print(f\"\\nCheck the file '{log_file_path}' for full log details.\")\n",
        "\n"
      ],
      "metadata": {
        "colab": {
          "base_uri": "https://localhost:8080/"
        },
        "id": "tF6pXU0aaGid",
        "outputId": "43fdc9a8-136e-48b1-cad1-50fa3dc3c38a"
      },
      "execution_count": 15,
      "outputs": [
        {
          "output_type": "stream",
          "name": "stderr",
          "text": [
            "INFO:__main__:Starting data processing...\n",
            "INFO:__main__:Processed item 0: '10' successfully. Current sum: 10\n",
            "INFO:__main__:Processed item 1: '20' successfully. Current sum: 30\n",
            "ERROR: Invalid data encountered at index 2: 'invalid' is not a valid number.\n",
            "ERROR: Invalid data encountered at index 2: 'invalid' is not a valid number.\n",
            "ERROR:__main__:Invalid data encountered at index 2: 'invalid' is not a valid number.\n",
            "INFO:__main__:Processed item 3: '30' successfully. Current sum: 60\n",
            "INFO:__main__:Processed item 4: '0' successfully. Current sum: 60\n",
            "ERROR: Attempted division by zero at index 4 with value '0'.\n",
            "Traceback (most recent call last):\n",
            "  File \"/tmp/ipython-input-15-476862111.py\", line 56, in process_data\n",
            "    result = 100 / num\n",
            "            ~~~~^~~~~\n",
            "ZeroDivisionError: division by zero\n",
            "ERROR: Attempted division by zero at index 4 with value '0'.\n",
            "Traceback (most recent call last):\n",
            "  File \"/tmp/ipython-input-15-476862111.py\", line 56, in process_data\n",
            "    result = 100 / num\n",
            "            ~~~~^~~~~\n",
            "ZeroDivisionError: division by zero\n",
            "ERROR:__main__:Attempted division by zero at index 4 with value '0'.\n",
            "Traceback (most recent call last):\n",
            "  File \"/tmp/ipython-input-15-476862111.py\", line 56, in process_data\n",
            "    result = 100 / num\n",
            "            ~~~~^~~~~\n",
            "ZeroDivisionError: division by zero\n",
            "INFO:__main__:Processed item 5: '40' successfully. Current sum: 100\n",
            "INFO:__main__:Data processing finished. Total sum: 100, Valid items: 5, Average: 20.00\n",
            "INFO:__main__:Exiting data processing.\n",
            "INFO:__main__:Starting data processing...\n",
            "ERROR: Invalid data encountered at index 0: 'apple' is not a valid number.\n",
            "ERROR: Invalid data encountered at index 0: 'apple' is not a valid number.\n",
            "ERROR:__main__:Invalid data encountered at index 0: 'apple' is not a valid number.\n",
            "ERROR: Invalid data encountered at index 1: 'banana' is not a valid number.\n",
            "ERROR: Invalid data encountered at index 1: 'banana' is not a valid number.\n",
            "ERROR:__main__:Invalid data encountered at index 1: 'banana' is not a valid number.\n",
            "WARNING:__main__:No valid items were processed.\n",
            "INFO:__main__:Exiting data processing.\n"
          ]
        },
        {
          "output_type": "stream",
          "name": "stdout",
          "text": [
            "Log messages will be saved to: my_app_logs/app_activity_2025-07-16.log\n",
            "Error messages will also be printed to the console.\n",
            "\n",
            "--- Processing Sample Data 1 ---\n",
            "\n",
            "--- Processing Sample Data 2 ---\n",
            "\n",
            "Check the file 'my_app_logs/app_activity_2025-07-16.log' for full log details.\n"
          ]
        }
      ]
    },
    {
      "cell_type": "markdown",
      "source": [
        "Question15- Write a Python program that prints the content of a file and handles the case when the file is empty."
      ],
      "metadata": {
        "id": "J1v412apaVXr"
      }
    },
    {
      "cell_type": "code",
      "source": [
        "import os\n",
        "\n",
        "def print_file_content_with_empty_check(file_path):\n",
        "    \"\"\"\n",
        "    Prints the content of a file.\n",
        "    Handles FileNotFoundError if the file doesn't exist.\n",
        "    Handles the case where the file is empty.\n",
        "    \"\"\"\n",
        "    try:\n",
        "        # Open the file in read mode ('r') using a with statement\n",
        "        with open(file_path, 'r') as file:\n",
        "            content = file.read() # Read the entire content into a string\n",
        "\n",
        "            if not content:  # Check if the content string is empty\n",
        "                print(f\"Information: The file '{file_path}' exists but is empty.\")\n",
        "            else:\n",
        "                print(f\"--- Content of '{file_path}' ---\")\n",
        "                print(content)\n",
        "                print(f\"--- End of '{file_path}' content ---\")\n",
        "\n",
        "    except FileNotFoundError:\n",
        "        print(f\"Error: The file '{file_path}' was not found.\")\n",
        "    except PermissionError:\n",
        "        print(f\"Error: Permission denied. Cannot access '{file_path}'.\")\n",
        "    except IOError as e:\n",
        "        print(f\"An I/O error occurred while reading '{file_path}': {e}\")\n",
        "    except Exception as e:\n",
        "        print(f\"An unexpected error occurred: {e}\")\n",
        "\n",
        "# --- Example Usage ---\n",
        "\n",
        "# 1. Create a dummy non-empty file\n",
        "non_empty_file = \"data.txt\"\n",
        "with open(non_empty_file, 'w') as f:\n",
        "    f.write(\"This is line one.\\n\")\n",
        "    f.write(\"This is line two.\")\n",
        "\n",
        "print(f\"--- Testing with non-empty file: '{non_empty_file}' ---\")\n",
        "print_file_content_with_empty_check(non_empty_file)\n",
        "\n",
        "# 2. Create a dummy empty file\n",
        "empty_file = \"empty.txt\"\n",
        "with open(empty_file, 'w') as f:\n",
        "    pass # This creates an empty file\n",
        "\n",
        "print(f\"\\n--- Testing with empty file: '{empty_file}' ---\")\n",
        "print_file_content_with_empty_check(empty_file)\n",
        "\n",
        "# 3. Test with a non-existent file\n",
        "non_existent_file = \"non_existent.txt\"\n",
        "print(f\"\\n--- Testing with non-existent file: '{non_existent_file}' ---\")\n",
        "print_file_content_with_empty_check(non_existent_file)\n",
        "\n",
        "# 4. Clean up created dummy files\n",
        "try:\n",
        "    os.remove(non_empty_file)\n",
        "    os.remove(empty_file)\n",
        "    print(f\"\\nCleaned up '{non_empty_file}' and '{empty_file}'.\")\n",
        "except OSError as e:\n",
        "    print(f\"Error cleaning up files: {e}\")\n",
        "\n"
      ],
      "metadata": {
        "colab": {
          "base_uri": "https://localhost:8080/"
        },
        "id": "nhwguTXjaezk",
        "outputId": "0c8b8d33-0b59-442a-921e-0b179b8002b8"
      },
      "execution_count": 16,
      "outputs": [
        {
          "output_type": "stream",
          "name": "stdout",
          "text": [
            "--- Testing with non-empty file: 'data.txt' ---\n",
            "--- Content of 'data.txt' ---\n",
            "This is line one.\n",
            "This is line two.\n",
            "--- End of 'data.txt' content ---\n",
            "\n",
            "--- Testing with empty file: 'empty.txt' ---\n",
            "Information: The file 'empty.txt' exists but is empty.\n",
            "\n",
            "--- Testing with non-existent file: 'non_existent.txt' ---\n",
            "Error: The file 'non_existent.txt' was not found.\n",
            "\n",
            "Cleaned up 'data.txt' and 'empty.txt'.\n"
          ]
        }
      ]
    },
    {
      "cell_type": "markdown",
      "source": [
        "Question16-  Demonstrate how to use memory profiling to check the memory usage of a small program."
      ],
      "metadata": {
        "id": "1iZ7Vnu9amx-"
      }
    },
    {
      "cell_type": "code",
      "source": [
        "pip install memory-profiler"
      ],
      "metadata": {
        "colab": {
          "base_uri": "https://localhost:8080/"
        },
        "id": "PWguFH-eboOs",
        "outputId": "7e11bc94-81e5-4958-9798-aec504c25502"
      },
      "execution_count": 21,
      "outputs": [
        {
          "output_type": "stream",
          "name": "stdout",
          "text": [
            "Collecting memory-profiler\n",
            "  Downloading memory_profiler-0.61.0-py3-none-any.whl.metadata (20 kB)\n",
            "Requirement already satisfied: psutil in /usr/local/lib/python3.11/dist-packages (from memory-profiler) (5.9.5)\n",
            "Downloading memory_profiler-0.61.0-py3-none-any.whl (31 kB)\n",
            "Installing collected packages: memory-profiler\n",
            "Successfully installed memory-profiler-0.61.0\n"
          ]
        }
      ]
    },
    {
      "cell_type": "code",
      "source": [
        "# memory_test.py\n",
        "from memory_profiler import profile\n",
        "\n",
        "@profile\n",
        "def allocate_memory_example():\n",
        "    \"\"\"\n",
        "    A function that allocates some memory to demonstrate profiling.\n",
        "    \"\"\"\n",
        "    a = [i for i in range(1000000)]  # Creates a list of 1 million integers\n",
        "    b = [i * 2 for i in range(2000000)] # Creates a list of 2 million integers\n",
        "    c = a + b # Concatenates the lists, creating a new, larger list\n",
        "\n",
        "    # You might consider deleting variables that are no longer needed\n",
        "    # del a\n",
        "    # del b\n",
        "\n",
        "    return c\n",
        "\n",
        "if __name__ == '__main__':\n",
        "    print(\"Starting memory allocation example...\")\n",
        "    large_list = allocate_memory_example()\n",
        "    print(\"Memory allocation example finished.\")\n",
        "    # The 'large_list' still holds a reference to the concatenated list 'c'\n",
        "    # If not needed, you could delete it:\n",
        "    # del large_list\n"
      ],
      "metadata": {
        "colab": {
          "base_uri": "https://localhost:8080/"
        },
        "id": "Y8SxXBKNb5BA",
        "outputId": "fa8fe607-624a-4c78-a818-20a2692f0a52"
      },
      "execution_count": 22,
      "outputs": [
        {
          "output_type": "stream",
          "name": "stderr",
          "text": [
            "\n",
            "PYDEV DEBUGGER WARNING:\n",
            "sys.settrace() should not be used when the debugger is being used.\n",
            "This may cause the debugger to stop working correctly.\n",
            "If this is needed, please check: \n",
            "http://pydev.blogspot.com/2007/06/why-cant-pydev-debugger-work-with.html\n",
            "to see how to restore the debug tracing back correctly.\n",
            "Call Location:\n",
            "  File \"/usr/local/lib/python3.11/dist-packages/memory_profiler.py\", line 847, in enable\n",
            "    sys.settrace(self.trace_memory_usage)\n",
            "\n"
          ]
        },
        {
          "output_type": "stream",
          "name": "stdout",
          "text": [
            "Starting memory allocation example...\n",
            "ERROR: Could not find file /tmp/ipython-input-22-542642420.py\n"
          ]
        },
        {
          "output_type": "stream",
          "name": "stderr",
          "text": [
            "\n",
            "PYDEV DEBUGGER WARNING:\n",
            "sys.settrace() should not be used when the debugger is being used.\n",
            "This may cause the debugger to stop working correctly.\n",
            "If this is needed, please check: \n",
            "http://pydev.blogspot.com/2007/06/why-cant-pydev-debugger-work-with.html\n",
            "to see how to restore the debug tracing back correctly.\n",
            "Call Location:\n",
            "  File \"/usr/local/lib/python3.11/dist-packages/memory_profiler.py\", line 850, in disable\n",
            "    sys.settrace(self._original_trace_function)\n",
            "\n"
          ]
        },
        {
          "output_type": "stream",
          "name": "stdout",
          "text": [
            "Memory allocation example finished.\n"
          ]
        }
      ]
    },
    {
      "cell_type": "markdown",
      "source": [
        "Question17- Write a Python program to create and write a list of numbers to a file, one number per line."
      ],
      "metadata": {
        "id": "rmMF6tPdcXch"
      }
    },
    {
      "cell_type": "code",
      "source": [
        "def write_numbers_to_file(numbers, file_path):\n",
        "    \"\"\"\n",
        "    Creates a file and writes a list of numbers to it, with each number on a new line.\n",
        "\n",
        "    Args:\n",
        "        numbers (list): A list of numbers (integers or floats).\n",
        "        file_path (str): The path to the file to be created/written.\n",
        "    \"\"\"\n",
        "    try:\n",
        "        # Open the file in write mode ('w').\n",
        "        # If the file exists, its content will be overwritten.\n",
        "        # If the file doesn't exist, it will be created.\n",
        "        with open(file_path, 'w') as file:\n",
        "            for number in numbers:\n",
        "                # Convert the number to a string before writing\n",
        "                # Add a newline character '\\n' to put each number on a new line\n",
        "                file.write(str(number) + '\\n')\n",
        "        print(f\"Successfully wrote numbers to '{file_path}'.\")\n",
        "    except IOError as e:\n",
        "        print(f\"Error: An I/O error occurred while writing to '{file_path}': {e}\")\n",
        "    except Exception as e:\n",
        "        print(f\"An unexpected error occurred: {e}\")\n",
        "\n",
        "# --- Example Usage ---\n",
        "my_numbers = [10, 20, 30, 45, 5.5, 67, 80, 99.9]\n",
        "output_file = \"numbers_list.txt\"\n",
        "\n",
        "# Call the function to write the list of numbers to the file\n",
        "write_numbers_to_file(my_numbers, output_file)\n",
        "\n",
        "# --- Optional: Verify the content of the created file ---\n",
        "print(f\"\\n--- Verifying content of '{output_file}' ---\")\n",
        "try:\n",
        "    with open(output_file, 'r') as file:\n",
        "        print(file.read())\n",
        "except FileNotFoundError:\n",
        "    print(f\"Error: Verification failed. File '{output_file}' not found.\")\n",
        "except Exception as e:\n",
        "    print(f\"Error during verification: {e}\")\n",
        "\n"
      ],
      "metadata": {
        "colab": {
          "base_uri": "https://localhost:8080/"
        },
        "id": "8YNKAYf_chBz",
        "outputId": "6d229752-2802-4f1e-b707-75e968245b67"
      },
      "execution_count": 24,
      "outputs": [
        {
          "output_type": "stream",
          "name": "stdout",
          "text": [
            "Successfully wrote numbers to 'numbers_list.txt'.\n",
            "\n",
            "--- Verifying content of 'numbers_list.txt' ---\n",
            "10\n",
            "20\n",
            "30\n",
            "45\n",
            "5.5\n",
            "67\n",
            "80\n",
            "99.9\n",
            "\n"
          ]
        }
      ]
    },
    {
      "cell_type": "markdown",
      "source": [
        "Question18-  How would you implement a basic logging setup that logs to a file with rotation after 1MB?"
      ],
      "metadata": {
        "id": "4qrwGV-zcn62"
      }
    },
    {
      "cell_type": "code",
      "source": [
        "import logging\n",
        "\n",
        "logging.warning(\"This is a warning message.\")\n",
        "logging.info(\"This is an info message. (Will not be displayed by default)\")\n",
        "logging.error(\"This is an error message.\")\n"
      ],
      "metadata": {
        "id": "LZAAU1lgncRE"
      },
      "execution_count": null,
      "outputs": []
    },
    {
      "cell_type": "markdown",
      "source": [
        "Question19- Write a program that handles both IndexError and KeyError using a try-except block"
      ],
      "metadata": {
        "id": "IDgZ98NonCIb"
      }
    },
    {
      "cell_type": "code",
      "source": [
        "def access_data(data_structure, index_or_key):\n",
        "    \"\"\"\n",
        "    Attempts to access an element from a data structure (list or dictionary)\n",
        "    using an index or a key. Handles IndexError for lists and KeyError for dictionaries.\n",
        "\n",
        "    Args:\n",
        "        data_structure (list or dict): The data structure to access.\n",
        "        index_or_key (int or str): The index for a list, or the key for a dictionary.\n",
        "    \"\"\"\n",
        "    try:\n",
        "        if isinstance(data_structure, list):\n",
        "            value = data_structure[index_or_key]\n",
        "            print(f\"Accessed list at index {index_or_key}: {value}\")\n",
        "        elif isinstance(data_structure, dict):\n",
        "            value = data_structure[index_or_key]\n",
        "            print(f\"Accessed dictionary with key '{index_or_key}': {value}\")\n",
        "        else:\n",
        "            print(f\"Error: Unsupported data structure type: {type(data_structure)}\")\n",
        "\n",
        "    except IndexError:\n",
        "        # Handles errors when accessing a list with an out-of-range index\n",
        "        print(f\"Error: IndexError occurred! Index {index_or_key} is out of range for the list.\")\n",
        "    except KeyError:\n",
        "        # Handles errors when accessing a dictionary with a non-existent key\n",
        "        print(f\"Error: KeyError occurred! Key '{index_or_key}' not found in the dictionary.\")\n",
        "    except TypeError:\n",
        "        # Handles errors if the index_or_key is of the wrong type for the data structure\n",
        "        print(f\"Error: TypeError occurred! Invalid type for index/key: '{index_or_key}'.\")\n",
        "    except Exception as e:\n",
        "        # Catches any other unexpected exceptions\n",
        "        print(f\"An unexpected error occurred: {e}\")\n",
        "\n",
        "# --- Example Usage ---\n",
        "\n",
        "my_list = [10, 20, 30]\n",
        "my_dict = {\"name\": \"Alice\", \"age\": 30, \"city\": \"New York\"}\n",
        "\n",
        "print(\"--- Testing List Access ---\")\n",
        "access_data(my_list, 1)    # Valid index\n",
        "access_data(my_list, 5)    # Invalid index (IndexError)\n",
        "access_data(my_list, \"a\")  # Invalid type (TypeError)\n",
        "\n",
        "print(\"\\n--- Testing Dictionary Access ---\")\n",
        "access_data(my_dict, \"name\")    # Valid key\n",
        "access_data(my_dict, \"email\")   # Invalid key (KeyError)\n",
        "access_data(my_dict, 0)         # Invalid type for key (TypeError)\n",
        "\n",
        "print(\"\\n--- Testing Unsupported Data Structure ---\")\n",
        "access_data(\"hello\", 1)  # String is iterable, but handled as unsupported\n",
        "access_data(123, \"key\")  # Integer is not a data structure"
      ],
      "metadata": {
        "colab": {
          "base_uri": "https://localhost:8080/"
        },
        "id": "eiFEhuf4ga77",
        "outputId": "7cb46430-957d-4ff3-9bc7-a20c8ada89c5"
      },
      "execution_count": 33,
      "outputs": [
        {
          "output_type": "stream",
          "name": "stdout",
          "text": [
            "--- Testing List Access ---\n",
            "Accessed list at index 1: 20\n",
            "Error: IndexError occurred! Index 5 is out of range for the list.\n",
            "Error: TypeError occurred! Invalid type for index/key: 'a'.\n",
            "\n",
            "--- Testing Dictionary Access ---\n",
            "Accessed dictionary with key 'name': Alice\n",
            "Error: KeyError occurred! Key 'email' not found in the dictionary.\n",
            "Error: KeyError occurred! Key '0' not found in the dictionary.\n",
            "\n",
            "--- Testing Unsupported Data Structure ---\n",
            "Error: Unsupported data structure type: <class 'str'>\n",
            "Error: Unsupported data structure type: <class 'int'>\n"
          ]
        }
      ]
    },
    {
      "cell_type": "markdown",
      "source": [
        "Question20- How would you open a file and read its contents using a context manager in Python?"
      ],
      "metadata": {
        "id": "ey8xmiWngpuM"
      }
    },
    {
      "cell_type": "code",
      "source": [
        "def read_file_with_context_manager(filename):\n",
        "    \"\"\"\n",
        "    Opens a file using a context manager, reads its content, and prints it.\n",
        "    Handles FileNotFoundError if the file doesn't exist.\n",
        "    \"\"\"\n",
        "    try:\n",
        "        # Use the 'with' statement to open the file in read mode ('r').\n",
        "        # The file object is automatically assigned to the variable 'file'.\n",
        "        with open(filename, 'r') as file:\n",
        "            content = file.read() # Read the entire content of the file\n",
        "            print(f\"Content of '{filename}':\\n\")\n",
        "            print(content)\n",
        "            return content\n",
        "    except FileNotFoundError:\n",
        "        print(f\"Error: The file '{filename}' was not found.\")\n",
        "        return None\n",
        "    except IOError as e:\n",
        "        print(f\"An I/O error occurred while reading '{filename}': {e}\")\n",
        "        return None\n",
        "    except Exception as e:\n",
        "        print(f\"An unexpected error occurred: {e}\")\n",
        "        return None\n",
        "\n",
        "# --- Example Usage ---\n",
        "\n",
        "# 1. Create a dummy file for testing\n",
        "dummy_file = \"sample_document.txt\"\n",
        "with open(dummy_file, 'w') as f:\n",
        "    f.write(\"This is the first line.\\n\")\n",
        "    f.write(\"This is the second line of the document.\\n\")\n",
        "    f.write(\"And here is the final line.\")\n",
        "\n",
        "print(f\"--- Attempting to read '{dummy_file}' ---\")\n",
        "read_file_with_context_manager(dummy_file)\n",
        "\n",
        "print(\"\\n--- Attempting to read a non-existent file ---\")\n",
        "non_existent_file = \"non_existent_document.txt\"\n",
        "read_file_with_context_manager(non_existent_file)\n"
      ],
      "metadata": {
        "colab": {
          "base_uri": "https://localhost:8080/"
        },
        "id": "0Z02xdOTgxWk",
        "outputId": "45b9a1de-bf5f-46bb-8344-685fd8de96d9"
      },
      "execution_count": 28,
      "outputs": [
        {
          "output_type": "stream",
          "name": "stdout",
          "text": [
            "--- Attempting to read 'sample_document.txt' ---\n",
            "Content of 'sample_document.txt':\n",
            "\n",
            "This is the first line.\n",
            "This is the second line of the document.\n",
            "And here is the final line.\n",
            "\n",
            "--- Attempting to read a non-existent file ---\n",
            "Error: The file 'non_existent_document.txt' was not found.\n"
          ]
        }
      ]
    },
    {
      "cell_type": "markdown",
      "source": [
        "Question21-  Write a Python program that reads a file and prints the number of occurrences of a specific word."
      ],
      "metadata": {
        "id": "SDnTX8c2g9Pg"
      }
    },
    {
      "cell_type": "code",
      "source": [
        "import re\n",
        "\n",
        "def count_word_occurrences(file_path, target_word, case_sensitive=False):\n",
        "    \"\"\"\n",
        "    Reads a file and counts the number of occurrences of a specific word.\n",
        "\n",
        "    Args:\n",
        "        file_path (str): The path to the file to read.\n",
        "        target_word (str): The word to search for.\n",
        "        case_sensitive (bool): If True, the search is case-sensitive.\n",
        "                               If False, the search is case-insensitive.\n",
        "\n",
        "    Returns:\n",
        "        int: The number of occurrences of the target_word, or -1 if an error occurred.\n",
        "    \"\"\"\n",
        "    count = 0\n",
        "    try:\n",
        "        with open(file_path, 'r') as file:\n",
        "            content = file.read() # Read the entire file content\n",
        "\n",
        "            # Prepare content and target_word for search based on case_sensitive flag\n",
        "            if not case_sensitive:\n",
        "                content = content.lower()\n",
        "                target_word = target_word.lower()\n",
        "\n",
        "            # Using regex for more accurate word matching (handling punctuation, word boundaries)\n",
        "            # \\b matches word boundaries\n",
        "            pattern = r'\\b' + re.escape(target_word) + r'\\b'\n",
        "            matches = re.findall(pattern, content)\n",
        "            count = len(matches)\n",
        "\n",
        "        return count\n",
        "\n",
        "    except FileNotFoundError:\n",
        "        print(f\"Error: The file '{file_path}' was not found.\")\n",
        "        return -1\n",
        "    except PermissionError:\n",
        "        print(f\"Error: Permission denied. Cannot access '{file_path}'.\")\n",
        "        return -1\n",
        "    except IOError as e:\n",
        "        print(f\"An I/O error occurred while reading '{file_path}': {e}\")\n",
        "        return -1\n",
        "    except Exception as e:\n",
        "        print(f\"An unexpected error occurred: {e}\")\n",
        "        return -1\n",
        "\n",
        "# --- Example Usage ---\n",
        "\n",
        "# 1. Create a dummy file for testing\n",
        "file_to_read = \"my_text_document.txt\"\n",
        "with open(file_to_read, 'w') as f:\n",
        "    f.write(\"Python is a powerful language. \"\n",
        "            \"Python programming is fun. \"\n",
        "            \"Many developers love Python.\\n\"\n",
        "            \"This is a Python-related document. Python, python, PYTHON.\")\n",
        "\n",
        "print(f\"--- Created '{file_to_read}' for testing ---\")\n",
        "\n",
        "# 2. Count occurrences (case-sensitive)\n",
        "word_to_find_cs = \"Python\"\n",
        "occurrences_cs = count_word_occurrences(file_to_read, word_to_find_cs, case_sensitive=True)\n",
        "if occurrences_cs != -1:\n",
        "    print(f\"\\nCase-sensitive count of '{word_to_find_cs}': {occurrences_cs}\")\n",
        "\n",
        "# 3. Count occurrences (case-insensitive)\n",
        "word_to_find_ci = \"python\"\n",
        "occurrences_ci = count_word_occurrences(file_to_read, word_to_find_ci, case_sensitive=False)\n",
        "if occurrences_ci != -1:\n",
        "    print(f\"Case-insensitive count of '{word_to_find_ci}': {occurrences_ci}\")\n",
        "\n",
        "# 4. Test with a non-existent word\n",
        "word_not_found = \"java\"\n",
        "occurrences_nf = count_word_occurrences(file_to_read, word_not_found, case_sensitive=False)\n",
        "if occurrences_nf != -1:\n",
        "    print(f\"Occurrences of '{word_not_found}': {occurrences_nf}\")\n",
        "\n",
        "# 5. Test with a non-existent file\n",
        "print(\"\\n--- Testing with a non-existent file ---\")\n",
        "non_existent_file = \"non_existent_doc.txt\"\n",
        "count_word_occurrences(non_existent_file, \"anyword\")\n",
        "\n",
        "# 6. Test word boundary vs. substring count\n",
        "print(\"\\n--- Testing 'is' vs 'is' (substring) ---\")\n",
        "substring_file = \"substring_test.txt\"\n",
        "with open(substring_file, 'w') as f:\n",
        "    f.write(\"This is a test. Isolation is key.\")\n",
        "\n",
        "word_is = \"is\"\n",
        "count_word_only = count_word_occurrences(substring_file, word_is, case_sensitive=False)\n",
        "if count_word_only != -1:\n",
        "    print(f\"Occurrences of '{word_is}' as a whole word: {count_word_only}\")\n",
        "\n",
        "# Using string.count() method (finds substrings, not whole words)\n",
        "try:\n",
        "    with open(substring_file, 'r') as file:\n",
        "        content_sub = file.read().lower()\n",
        "        substring_count = content_sub.count(word_is)\n",
        "        print(f\"Occurrences of '{word_is}' as a substring (using .count()): {substring_count}\")\n",
        "except Exception as e:\n",
        "    print(f\"Error checking substring count: {e}\")\n",
        "\n"
      ],
      "metadata": {
        "colab": {
          "base_uri": "https://localhost:8080/"
        },
        "id": "2JLnC1kuhEYw",
        "outputId": "b8eec80d-2b04-4356-d142-296a5f4a3f80"
      },
      "execution_count": 29,
      "outputs": [
        {
          "output_type": "stream",
          "name": "stdout",
          "text": [
            "--- Created 'my_text_document.txt' for testing ---\n",
            "\n",
            "Case-sensitive count of 'Python': 5\n",
            "Case-insensitive count of 'python': 7\n",
            "Occurrences of 'java': 0\n",
            "\n",
            "--- Testing with a non-existent file ---\n",
            "Error: The file 'non_existent_doc.txt' was not found.\n",
            "\n",
            "--- Testing 'is' vs 'is' (substring) ---\n",
            "Occurrences of 'is' as a whole word: 2\n",
            "Occurrences of 'is' as a substring (using .count()): 4\n"
          ]
        }
      ]
    },
    {
      "cell_type": "markdown",
      "source": [
        "Question22- How can you check if a file is empty before attempting to read its contents?"
      ],
      "metadata": {
        "id": "H092phKBhNah"
      }
    },
    {
      "cell_type": "code",
      "source": [
        "import os\n",
        "\n",
        "def check_and_read_file(filepath):\n",
        "    \"\"\"\n",
        "    Checks if a file exists and is not empty before reading its content.\n",
        "    \"\"\"\n",
        "    try:\n",
        "        if not os.path.exists(filepath): # First, check if the file exists\n",
        "            print(f\"Error: The file '{filepath}' does not exist.\")\n",
        "            return None\n",
        "\n",
        "        if os.path.getsize(filepath) == 0: # Then, check if it's empty\n",
        "            print(f\"Information: The file '{filepath}' exists but is empty.\")\n",
        "            return None\n",
        "\n",
        "        # If it exists and is not empty, proceed to read\n",
        "        with open(filepath, 'r') as file:\n",
        "            content = file.read()\n",
        "            print(f\"Content of '{filepath}':\\n{content}\")\n",
        "            return content\n",
        "\n",
        "    except OSError as e: # Catch OS-related errors like permission issues\n",
        "        print(f\"Error accessing file '{filepath}': {e}\")\n",
        "        return None\n",
        "    except Exception as e: # Catch any other unexpected errors\n",
        "        print(f\"An unexpected error occurred: {e}\")\n",
        "        return None\n",
        "\n",
        "# --- Example Usage ---\n",
        "\n",
        "# 1. Create a dummy non-empty file\n",
        "with open(\"non_empty.txt\", \"w\") as f:\n",
        "    f.write(\"This file has content.\")\n",
        "\n",
        "# 2. Create a dummy empty file\n",
        "with open(\"empty.txt\", \"w\") as f:\n",
        "    pass\n",
        "\n",
        "# 3. Test with different scenarios\n",
        "print(\"--- Testing 'non_empty.txt' ---\")\n",
        "check_and_read_file(\"non_empty.txt\")\n",
        "\n",
        "print(\"\\n--- Testing 'empty.txt' ---\")\n",
        "check_and_read_file(\"empty.txt\")\n",
        "\n",
        "print(\"\\n--- Testing 'non_existent.txt' ---\")\n",
        "check_and_read_file(\"non_existent.txt\")\n",
        "\n",
        "# Cleanup dummy files\n",
        "os.remove(\"non_empty.txt\")\n",
        "os.remove(\"empty.txt\")\n"
      ],
      "metadata": {
        "colab": {
          "base_uri": "https://localhost:8080/"
        },
        "id": "bCQ6rE-mhVXh",
        "outputId": "6f535325-5640-4e10-da93-ffef75cb57bc"
      },
      "execution_count": 30,
      "outputs": [
        {
          "output_type": "stream",
          "name": "stdout",
          "text": [
            "--- Testing 'non_empty.txt' ---\n",
            "Content of 'non_empty.txt':\n",
            "This file has content.\n",
            "\n",
            "--- Testing 'empty.txt' ---\n",
            "Information: The file 'empty.txt' exists but is empty.\n",
            "\n",
            "--- Testing 'non_existent.txt' ---\n",
            "Error: The file 'non_existent.txt' does not exist.\n"
          ]
        }
      ]
    },
    {
      "cell_type": "markdown",
      "source": [
        "Question23- Write a Python program that writes to a log file when an error occurs during file handling."
      ],
      "metadata": {
        "id": "YGI9HTdVhcGD"
      }
    },
    {
      "cell_type": "code",
      "source": [
        "import logging\n",
        "import os\n",
        "from datetime import datetime\n",
        "\n",
        "# --- Logging Setup ---\n",
        "\n",
        "# 1. Define log file path\n",
        "log_directory = \"app_logs\"\n",
        "os.makedirs(log_directory, exist_ok=True) # Ensure the log directory exists\n",
        "log_file_name = datetime.now().strftime(\"file_error_log_%Y-%m-%d.log\")\n",
        "log_file_path = os.path.join(log_directory, log_file_name)\n",
        "\n",
        "# 2. Get a logger instance\n",
        "logger = logging.getLogger(__name__)\n",
        "logger.setLevel(logging.ERROR) # Only log messages of ERROR level and above\n",
        "\n",
        "# 3. Create a FileHandler to write logs to a file\n",
        "file_handler = logging.FileHandler(log_file_path, mode='a') # 'a' for append\n",
        "file_handler.setLevel(logging.ERROR) # This handler specifically handles ERROR and above\n",
        "\n",
        "# 4. Create a Formatter for the log messages\n",
        "formatter = logging.Formatter('%(asctime)s - %(levelname)s - %(name)s - %(message)s')\n",
        "file_handler.setFormatter(formatter)\n",
        "\n",
        "# 5. Add the handler to the logger\n",
        "logger.addHandler(file_handler)\n",
        "\n",
        "# Optional: Add a StreamHandler to see ERROR messages in the console too\n",
        "console_handler = logging.StreamHandler()\n",
        "console_handler.setLevel(logging.ERROR)\n",
        "console_formatter = logging.Formatter('CONSOLE: %(levelname)s: %(message)s')\n",
        "console_handler.setFormatter(console_formatter)\n",
        "logger.addHandler(console_handler)\n",
        "\n",
        "# --- File Handling Function with Error Logging ---\n",
        "\n",
        "def safe_file_read(filepath):\n",
        "    \"\"\"\n",
        "    Attempts to read a file and logs an error if file handling fails.\n",
        "    \"\"\"\n",
        "    print(f\"\\nAttempting to read file: '{filepath}'...\")\n",
        "    try:\n",
        "        with open(filepath, 'r') as file:\n",
        "            content = file.read()\n",
        "            print(f\"Successfully read '{filepath}'. Content preview: {content[:50]}...\")\n",
        "            logger.info(f\"Successfully read file '{filepath}'.\") # Log success at INFO level (won't be shown by default setup)\n",
        "            return content\n",
        "    except FileNotFoundError:\n",
        "        # Log the specific FileNotFoundError with full traceback\n",
        "        logger.error(f\"Failed to open file '{filepath}': File not found.\", exc_info=True)\n",
        "        print(f\"Error: File '{filepath}' not found. Check the log file for details.\")\n",
        "        return None\n",
        "    except PermissionError:\n",
        "        # Log a PermissionError with full traceback\n",
        "        logger.error(f\"Failed to open file '{filepath}': Permission denied.\", exc_info=True)\n",
        "        print(f\"Error: Permission denied for file '{filepath}'. Check the log file for details.\")\n",
        "        return None\n",
        "    except IOError as e:\n",
        "        # Catch other general I/O errors\n",
        "        logger.error(f\"An I/O error occurred with file '{filepath}': {e}\", exc_info=True)\n",
        "        print(f\"Error: An I/O error occurred with file '{filepath}'. Check the log file for details.\")\n",
        "        return None\n",
        "    except Exception as e:\n",
        "        # Catch any other unexpected exceptions\n",
        "        logger.error(f\"An unexpected error occurred during file operation on '{filepath}': {e}\", exc_info=True)\n",
        "        print(f\"Error: An unexpected error occurred. Check the log file for details.\")\n",
        "        return None\n",
        "\n",
        "# --- Main Program Execution ---\n",
        "if __name__ == \"__main__\":\n",
        "    print(f\"Log messages (ERROR level and above) will be saved to: {log_file_path}\")\n",
        "    print(f\"Console will also show ERROR level messages.\")\n",
        "\n",
        "    # Scenario 1: Attempt to read a file that does not exist\n",
        "    non_existent_file = \"non_existent_document.txt\"\n",
        "    safe_file_read(non_existent_file)\n",
        "\n",
        "    # Scenario 2: Attempt to read an existing file (successful)\n",
        "    existing_file = \"existent_document.txt\"\n",
        "    try:\n",
        "        with open(existing_file, 'w') as f:\n",
        "            f.write(\"This is some sample text for the existing document.\")\n",
        "        safe_file_read(existing_file)\n",
        "    except Exception as e:\n",
        "        print(f\"Error creating existing file for test: {e}\")\n",
        "    finally:\n",
        "        # Cleanup the dummy file\n",
        "        if os.path.exists(existing_file):\n",
        "            os.remove(existing_file)\n",
        "            print(f\"Cleaned up '{existing_file}'.\")\n",
        "\n",
        "    # Scenario 3: Attempt to read a file with permission issues (requires specific environment setup)\n",
        "    # This scenario is often difficult to reliably test across OSes within a script.\n",
        "    # On Unix-like systems, you might uncomment the below block to simulate it:\n",
        "    \"\"\"\n",
        "    restricted_file = \"restricted_access.txt\"\n",
        "    try:\n",
        "        with open(restricted_file, 'w') as f:\n",
        "            f.write(\"Sensitive data.\")\n",
        "        os.chmod(restricted_file, 0o000) # Remove all permissions\n",
        "        safe_file_read(restricted_file)\n",
        "    except Exception as e:\n",
        "        logger.error(f\"Failed to set up restricted file for testing: {e}\")\n",
        "        print(f\"Could not fully demonstrate permission error: {e}\")\n",
        "    finally:\n",
        "        if os.path.exists(restricted_file):\n",
        "            os.chmod(restricted_file, 0o644) # Restore permissions for deletion\n",
        "            os.remove(restricted_file)\n",
        "            print(f\"Cleaned up '{restricted_file}'.\")\n",
        "    \"\"\"\n",
        "\n",
        "    print(\"\\nProgram finished. Check the log file for detailed error messages, including tracebacks.\")\n"
      ],
      "metadata": {
        "colab": {
          "base_uri": "https://localhost:8080/"
        },
        "id": "jat8AsKghjiY",
        "outputId": "307825e7-3d51-43e8-adca-e80971678444"
      },
      "execution_count": 31,
      "outputs": [
        {
          "output_type": "stream",
          "name": "stderr",
          "text": [
            "ERROR: Failed to open file 'non_existent_document.txt': File not found.\n",
            "Traceback (most recent call last):\n",
            "  File \"/tmp/ipython-input-31-2865456092.py\", line 43, in safe_file_read\n",
            "    with open(filepath, 'r') as file:\n",
            "         ^^^^^^^^^^^^^^^^^^^\n",
            "FileNotFoundError: [Errno 2] No such file or directory: 'non_existent_document.txt'\n",
            "ERROR: Failed to open file 'non_existent_document.txt': File not found.\n",
            "Traceback (most recent call last):\n",
            "  File \"/tmp/ipython-input-31-2865456092.py\", line 43, in safe_file_read\n",
            "    with open(filepath, 'r') as file:\n",
            "         ^^^^^^^^^^^^^^^^^^^\n",
            "FileNotFoundError: [Errno 2] No such file or directory: 'non_existent_document.txt'\n",
            "CONSOLE: ERROR: Failed to open file 'non_existent_document.txt': File not found.\n",
            "Traceback (most recent call last):\n",
            "  File \"/tmp/ipython-input-31-2865456092.py\", line 43, in safe_file_read\n",
            "    with open(filepath, 'r') as file:\n",
            "         ^^^^^^^^^^^^^^^^^^^\n",
            "FileNotFoundError: [Errno 2] No such file or directory: 'non_existent_document.txt'\n",
            "ERROR:__main__:Failed to open file 'non_existent_document.txt': File not found.\n",
            "Traceback (most recent call last):\n",
            "  File \"/tmp/ipython-input-31-2865456092.py\", line 43, in safe_file_read\n",
            "    with open(filepath, 'r') as file:\n",
            "         ^^^^^^^^^^^^^^^^^^^\n",
            "FileNotFoundError: [Errno 2] No such file or directory: 'non_existent_document.txt'\n"
          ]
        },
        {
          "output_type": "stream",
          "name": "stdout",
          "text": [
            "Log messages (ERROR level and above) will be saved to: app_logs/file_error_log_2025-07-16.log\n",
            "Console will also show ERROR level messages.\n",
            "\n",
            "Attempting to read file: 'non_existent_document.txt'...\n",
            "Error: File 'non_existent_document.txt' not found. Check the log file for details.\n",
            "\n",
            "Attempting to read file: 'existent_document.txt'...\n",
            "Successfully read 'existent_document.txt'. Content preview: This is some sample text for the existing document...\n",
            "Cleaned up 'existent_document.txt'.\n",
            "\n",
            "Program finished. Check the log file for detailed error messages, including tracebacks.\n"
          ]
        }
      ]
    }
  ]
}